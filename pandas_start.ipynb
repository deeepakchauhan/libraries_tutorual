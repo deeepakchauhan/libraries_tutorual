{
 "cells": [
  {
   "cell_type": "markdown",
   "id": "201d6968",
   "metadata": {},
   "source": [
    "### PANDAS : tabular representation of data, it has properties like size mutability, statistical analysis, efficient manipulation and extraction, etc"
   ]
  },
  {
   "cell_type": "code",
   "execution_count": 1,
   "id": "20ff891c",
   "metadata": {},
   "outputs": [],
   "source": [
    "import pandas as pd      # pd is an aias for pandas"
   ]
  },
  {
   "cell_type": "code",
   "execution_count": 2,
   "id": "1d42b63f",
   "metadata": {},
   "outputs": [
    {
     "name": "stdout",
     "output_type": "stream",
     "text": [
      "Pandas version : 2.3.0\n"
     ]
    }
   ],
   "source": [
    "print(\"Pandas version :\", pd.__version__)"
   ]
  },
  {
   "cell_type": "markdown",
   "id": "fec36614",
   "metadata": {},
   "source": [
    "### Primary Data Structures :\n",
    "##### 1. Series : 1D data structure, represents a single column from the entire dataset, homogenous array\n",
    "##### 2. DataFrames : 2D data  structure, represents the entire dataset, heterogeneously typed columns.  "
   ]
  },
  {
   "cell_type": "markdown",
   "id": "8cdf78e4",
   "metadata": {},
   "source": [
    "# SERIES :"
   ]
  },
  {
   "cell_type": "code",
   "execution_count": 3,
   "id": "c4cce8d2",
   "metadata": {},
   "outputs": [
    {
     "data": {
      "text/plain": [
       "0    10\n",
       "1    20\n",
       "2    30\n",
       "3    40\n",
       "4    50\n",
       "dtype: int64"
      ]
     },
     "execution_count": 3,
     "metadata": {},
     "output_type": "execute_result"
    }
   ],
   "source": [
    "s = pd.Series([10, 20, 30, 40, 50]) \n",
    "s"
   ]
  },
  {
   "cell_type": "markdown",
   "id": "d8903638",
   "metadata": {},
   "source": [
    "##### Some basic operations :"
   ]
  },
  {
   "cell_type": "code",
   "execution_count": 4,
   "id": "ff6e1508",
   "metadata": {},
   "outputs": [
    {
     "data": {
      "text/plain": [
       "dtype('int64')"
      ]
     },
     "execution_count": 4,
     "metadata": {},
     "output_type": "execute_result"
    }
   ],
   "source": [
    "s.dtype"
   ]
  },
  {
   "cell_type": "code",
   "execution_count": 5,
   "id": "a586f80f",
   "metadata": {},
   "outputs": [
    {
     "data": {
      "text/plain": [
       "array([10, 20, 30, 40, 50])"
      ]
     },
     "execution_count": 5,
     "metadata": {},
     "output_type": "execute_result"
    }
   ],
   "source": [
    "s.values"
   ]
  },
  {
   "cell_type": "code",
   "execution_count": 6,
   "id": "7a56e984",
   "metadata": {},
   "outputs": [
    {
     "data": {
      "text/plain": [
       "RangeIndex(start=0, stop=5, step=1)"
      ]
     },
     "execution_count": 6,
     "metadata": {},
     "output_type": "execute_result"
    }
   ],
   "source": [
    "s.index"
   ]
  },
  {
   "cell_type": "code",
   "execution_count": 7,
   "id": "e46c8d1d",
   "metadata": {},
   "outputs": [
    {
     "name": "stdout",
     "output_type": "stream",
     "text": [
      "None\n"
     ]
    }
   ],
   "source": [
    "print(s.name)       # prints None , because we have not given any name to a column"
   ]
  },
  {
   "cell_type": "code",
   "execution_count": 8,
   "id": "7367d462",
   "metadata": {},
   "outputs": [
    {
     "data": {
      "text/plain": [
       "0    10\n",
       "1    20\n",
       "2    30\n",
       "3    40\n",
       "4    50\n",
       "Name: numbers, dtype: int64"
      ]
     },
     "execution_count": 8,
     "metadata": {},
     "output_type": "execute_result"
    }
   ],
   "source": [
    "# assigning a name to a column \n",
    "\n",
    "s.name = \"numbers\"\n",
    "s"
   ]
  },
  {
   "cell_type": "markdown",
   "id": "8f9fdee8",
   "metadata": {},
   "source": [
    "##### INDEXING : by using square brackets "
   ]
  },
  {
   "cell_type": "code",
   "execution_count": 9,
   "id": "d34361eb",
   "metadata": {},
   "outputs": [
    {
     "data": {
      "text/plain": [
       "np.int64(10)"
      ]
     },
     "execution_count": 9,
     "metadata": {},
     "output_type": "execute_result"
    }
   ],
   "source": [
    "s[0]"
   ]
  },
  {
   "cell_type": "code",
   "execution_count": 10,
   "id": "5ec4df1b",
   "metadata": {},
   "outputs": [
    {
     "data": {
      "text/plain": [
       "0    10\n",
       "1    20\n",
       "Name: numbers, dtype: int64"
      ]
     },
     "execution_count": 10,
     "metadata": {},
     "output_type": "execute_result"
    }
   ],
   "source": [
    "s[0:2]                        # index 2 is exclusive ,will only print index 0 and 1"
   ]
  },
  {
   "cell_type": "code",
   "execution_count": 11,
   "id": "41d10613",
   "metadata": {},
   "outputs": [
    {
     "data": {
      "text/plain": [
       "np.int64(50)"
      ]
     },
     "execution_count": 11,
     "metadata": {},
     "output_type": "execute_result"
    }
   ],
   "source": [
    "# iloc : used for location based indexing \n",
    "\n",
    "s.iloc[4]"
   ]
  },
  {
   "cell_type": "code",
   "execution_count": 12,
   "id": "30b5f951",
   "metadata": {},
   "outputs": [
    {
     "data": {
      "text/plain": [
       "1    20\n",
       "2    30\n",
       "3    40\n",
       "Name: numbers, dtype: int64"
      ]
     },
     "execution_count": 12,
     "metadata": {},
     "output_type": "execute_result"
    }
   ],
   "source": [
    "s.iloc[[1,2,3]]"
   ]
  },
  {
   "cell_type": "code",
   "execution_count": 13,
   "id": "6cac571d",
   "metadata": {},
   "outputs": [],
   "source": [
    "#we can change our indexes   \n",
    "\n",
    "index = [\"apple\", \"banana\", \"grapes\", \"orange\", \"litchi\"]   "
   ]
  },
  {
   "cell_type": "code",
   "execution_count": 14,
   "id": "9255faa6",
   "metadata": {},
   "outputs": [
    {
     "data": {
      "text/plain": [
       "apple     10\n",
       "banana    20\n",
       "grapes    30\n",
       "orange    40\n",
       "litchi    50\n",
       "Name: numbers, dtype: int64"
      ]
     },
     "execution_count": 14,
     "metadata": {},
     "output_type": "execute_result"
    }
   ],
   "source": [
    "s.index = index          # since , we have changed the indexes, iloc will not work here \n",
    "s"
   ]
  },
  {
   "cell_type": "code",
   "execution_count": 15,
   "id": "27c06c2e",
   "metadata": {},
   "outputs": [
    {
     "data": {
      "text/plain": [
       "np.int64(30)"
      ]
     },
     "execution_count": 15,
     "metadata": {},
     "output_type": "execute_result"
    }
   ],
   "source": [
    "s['grapes']"
   ]
  },
  {
   "cell_type": "code",
   "execution_count": 16,
   "id": "01e27da6",
   "metadata": {},
   "outputs": [
    {
     "data": {
      "text/plain": [
       "np.int64(30)"
      ]
     },
     "execution_count": 16,
     "metadata": {},
     "output_type": "execute_result"
    }
   ],
   "source": [
    "# loc : labelled based indexing , in this case start and end both the values are included \n",
    "\n",
    "s.loc['grapes']"
   ]
  },
  {
   "cell_type": "code",
   "execution_count": 17,
   "id": "978c8623",
   "metadata": {},
   "outputs": [
    {
     "data": {
      "text/plain": [
       "apple     10\n",
       "grapes    30\n",
       "Name: numbers, dtype: int64"
      ]
     },
     "execution_count": 17,
     "metadata": {},
     "output_type": "execute_result"
    }
   ],
   "source": [
    "s.loc[['apple', 'grapes']]"
   ]
  },
  {
   "cell_type": "code",
   "execution_count": 18,
   "id": "49a70ecd",
   "metadata": {},
   "outputs": [
    {
     "data": {
      "text/plain": [
       "apple     10\n",
       "banana    20\n",
       "grapes    30\n",
       "orange    40\n",
       "Name: numbers, dtype: int64"
      ]
     },
     "execution_count": 18,
     "metadata": {},
     "output_type": "execute_result"
    }
   ],
   "source": [
    "s.loc['apple':'orange']"
   ]
  },
  {
   "cell_type": "markdown",
   "id": "dbc1da0b",
   "metadata": {},
   "source": [
    "##### Creating a series using dictionary :"
   ]
  },
  {
   "cell_type": "code",
   "execution_count": 19,
   "id": "3e42d597",
   "metadata": {},
   "outputs": [],
   "source": [
    "fruit_calories = {\n",
    "    \"apple\" : 20.6,\n",
    "    \"banana\" : 25.7,\n",
    "    \"mango\" : 10.0,\n",
    "    \"orange\" : 5.77,\n",
    "    \"pineapple\" : 17.8,\n",
    "    \"kiwi\" : 12.2,\n",
    "    \"pomegranate\" : 19.89,\n",
    "    \"grapes\" : 29.9\n",
    "    \n",
    "    }\n"
   ]
  },
  {
   "cell_type": "code",
   "execution_count": 20,
   "id": "d6c2e28d",
   "metadata": {},
   "outputs": [],
   "source": [
    "s2 = pd.Series(fruit_calories, name = \"calories\")"
   ]
  },
  {
   "cell_type": "code",
   "execution_count": 21,
   "id": "c5bcf43f",
   "metadata": {},
   "outputs": [
    {
     "data": {
      "text/plain": [
       "apple          20.60\n",
       "banana         25.70\n",
       "mango          10.00\n",
       "orange          5.77\n",
       "pineapple      17.80\n",
       "kiwi           12.20\n",
       "pomegranate    19.89\n",
       "grapes         29.90\n",
       "Name: calories, dtype: float64"
      ]
     },
     "execution_count": 21,
     "metadata": {},
     "output_type": "execute_result"
    }
   ],
   "source": [
    "s2"
   ]
  },
  {
   "cell_type": "code",
   "execution_count": 22,
   "id": "72c25bfc",
   "metadata": {},
   "outputs": [
    {
     "data": {
      "text/plain": [
       "apple           True\n",
       "banana          True\n",
       "mango          False\n",
       "orange         False\n",
       "pineapple       True\n",
       "kiwi            True\n",
       "pomegranate     True\n",
       "grapes          True\n",
       "Name: calories, dtype: bool"
      ]
     },
     "execution_count": 22,
     "metadata": {},
     "output_type": "execute_result"
    }
   ],
   "source": [
    "# Conditional Selection :\n",
    "\n",
    "s2 > 10                        "
   ]
  },
  {
   "cell_type": "code",
   "execution_count": 23,
   "id": "e52988e1",
   "metadata": {},
   "outputs": [
    {
     "data": {
      "text/plain": [
       "apple          20.60\n",
       "banana         25.70\n",
       "pineapple      17.80\n",
       "kiwi           12.20\n",
       "pomegranate    19.89\n",
       "grapes         29.90\n",
       "Name: calories, dtype: float64"
      ]
     },
     "execution_count": 23,
     "metadata": {},
     "output_type": "execute_result"
    }
   ],
   "source": [
    "s2[s2>10]              # will print fruits which has calories greater than 10"
   ]
  },
  {
   "cell_type": "code",
   "execution_count": 24,
   "id": "83a77cf2",
   "metadata": {},
   "outputs": [
    {
     "data": {
      "text/plain": [
       "[[apple           True\n",
       "  banana          True\n",
       "  mango          False\n",
       "  orange         False\n",
       "  pineapple      False\n",
       "  kiwi           False\n",
       "  pomegranate    False\n",
       "  grapes          True\n",
       "  Name: calories, dtype: bool]]"
      ]
     },
     "execution_count": 24,
     "metadata": {},
     "output_type": "execute_result"
    }
   ],
   "source": [
    "# using logical operators : and, or, not \n",
    "\n",
    "[[s2>10] and [s2>20]]\n",
    "\n"
   ]
  },
  {
   "cell_type": "code",
   "execution_count": 25,
   "id": "4d8d16df",
   "metadata": {},
   "outputs": [],
   "source": [
    "# Modifying the series :\n",
    "s2[\"mango\"] = 10.6"
   ]
  },
  {
   "cell_type": "code",
   "execution_count": 26,
   "id": "81a9f7a3",
   "metadata": {},
   "outputs": [
    {
     "data": {
      "text/plain": [
       "apple          20.60\n",
       "banana         25.70\n",
       "mango          10.60\n",
       "orange          5.77\n",
       "pineapple      17.80\n",
       "kiwi           12.20\n",
       "pomegranate    19.89\n",
       "grapes         29.90\n",
       "Name: calories, dtype: float64"
      ]
     },
     "execution_count": 26,
     "metadata": {},
     "output_type": "execute_result"
    }
   ],
   "source": [
    "s2"
   ]
  },
  {
   "cell_type": "markdown",
   "id": "d6baae3f",
   "metadata": {},
   "source": [
    "# DataFrames :"
   ]
  },
  {
   "cell_type": "code",
   "execution_count": 39,
   "id": "d7f27b8e",
   "metadata": {},
   "outputs": [],
   "source": [
    "data = {\n",
    "    \"Name\" : [\"deepak\", \"bob\", \"charlie\", \"yuvraj\", \"alice\"],\n",
    "    \"Age\" : [20, 24, 15, 10, 19],\n",
    "    \"Marks\" : [66, 40, 39, 90, 14],\n",
    "    \"Department\" : [\"CSE\", \"Electrical\", \"Electronics\", \"Civil\", \"Mechanical\"]\n",
    "}"
   ]
  },
  {
   "cell_type": "code",
   "execution_count": 40,
   "id": "60a93da6",
   "metadata": {},
   "outputs": [
    {
     "data": {
      "text/plain": [
       "{'Name': ['deepak', 'bob', 'charlie', 'yuvraj', 'alice'],\n",
       " 'Age': [20, 24, 15, 10, 19],\n",
       " 'Marks': [66, 40, 39, 90, 14],\n",
       " 'Department': ['CSE', 'Electrical', 'Electronics', 'Civil', 'Mechanical']}"
      ]
     },
     "execution_count": 40,
     "metadata": {},
     "output_type": "execute_result"
    }
   ],
   "source": [
    "data                                      # not very neat and clear, so we will convert it into a dataframe"
   ]
  },
  {
   "cell_type": "code",
   "execution_count": 41,
   "id": "69086c1e",
   "metadata": {},
   "outputs": [
    {
     "data": {
      "text/html": [
       "<div>\n",
       "<style scoped>\n",
       "    .dataframe tbody tr th:only-of-type {\n",
       "        vertical-align: middle;\n",
       "    }\n",
       "\n",
       "    .dataframe tbody tr th {\n",
       "        vertical-align: top;\n",
       "    }\n",
       "\n",
       "    .dataframe thead th {\n",
       "        text-align: right;\n",
       "    }\n",
       "</style>\n",
       "<table border=\"1\" class=\"dataframe\">\n",
       "  <thead>\n",
       "    <tr style=\"text-align: right;\">\n",
       "      <th></th>\n",
       "      <th>Name</th>\n",
       "      <th>Age</th>\n",
       "      <th>Marks</th>\n",
       "      <th>Department</th>\n",
       "    </tr>\n",
       "  </thead>\n",
       "  <tbody>\n",
       "    <tr>\n",
       "      <th>0</th>\n",
       "      <td>deepak</td>\n",
       "      <td>20</td>\n",
       "      <td>66</td>\n",
       "      <td>CSE</td>\n",
       "    </tr>\n",
       "    <tr>\n",
       "      <th>1</th>\n",
       "      <td>bob</td>\n",
       "      <td>24</td>\n",
       "      <td>40</td>\n",
       "      <td>Electrical</td>\n",
       "    </tr>\n",
       "    <tr>\n",
       "      <th>2</th>\n",
       "      <td>charlie</td>\n",
       "      <td>15</td>\n",
       "      <td>39</td>\n",
       "      <td>Electronics</td>\n",
       "    </tr>\n",
       "    <tr>\n",
       "      <th>3</th>\n",
       "      <td>yuvraj</td>\n",
       "      <td>10</td>\n",
       "      <td>90</td>\n",
       "      <td>Civil</td>\n",
       "    </tr>\n",
       "    <tr>\n",
       "      <th>4</th>\n",
       "      <td>alice</td>\n",
       "      <td>19</td>\n",
       "      <td>14</td>\n",
       "      <td>Mechanical</td>\n",
       "    </tr>\n",
       "  </tbody>\n",
       "</table>\n",
       "</div>"
      ],
      "text/plain": [
       "      Name  Age  Marks   Department\n",
       "0   deepak   20     66          CSE\n",
       "1      bob   24     40   Electrical\n",
       "2  charlie   15     39  Electronics\n",
       "3   yuvraj   10     90        Civil\n",
       "4    alice   19     14   Mechanical"
      ]
     },
     "execution_count": 41,
     "metadata": {},
     "output_type": "execute_result"
    }
   ],
   "source": [
    "df = pd.DataFrame(data)\n",
    "\n",
    "df                                # will print the dataframe"
   ]
  },
  {
   "cell_type": "code",
   "execution_count": 42,
   "id": "a9f584d1",
   "metadata": {},
   "outputs": [
    {
     "data": {
      "text/html": [
       "<div>\n",
       "<style scoped>\n",
       "    .dataframe tbody tr th:only-of-type {\n",
       "        vertical-align: middle;\n",
       "    }\n",
       "\n",
       "    .dataframe tbody tr th {\n",
       "        vertical-align: top;\n",
       "    }\n",
       "\n",
       "    .dataframe thead th {\n",
       "        text-align: right;\n",
       "    }\n",
       "</style>\n",
       "<table border=\"1\" class=\"dataframe\">\n",
       "  <thead>\n",
       "    <tr style=\"text-align: right;\">\n",
       "      <th></th>\n",
       "      <th>Name</th>\n",
       "      <th>Age</th>\n",
       "      <th>Marks</th>\n",
       "      <th>Department</th>\n",
       "    </tr>\n",
       "  </thead>\n",
       "  <tbody>\n",
       "    <tr>\n",
       "      <th>0</th>\n",
       "      <td>deepak</td>\n",
       "      <td>20</td>\n",
       "      <td>66</td>\n",
       "      <td>CSE</td>\n",
       "    </tr>\n",
       "    <tr>\n",
       "      <th>1</th>\n",
       "      <td>bob</td>\n",
       "      <td>24</td>\n",
       "      <td>40</td>\n",
       "      <td>Electrical</td>\n",
       "    </tr>\n",
       "  </tbody>\n",
       "</table>\n",
       "</div>"
      ],
      "text/plain": [
       "     Name  Age  Marks  Department\n",
       "0  deepak   20     66         CSE\n",
       "1     bob   24     40  Electrical"
      ]
     },
     "execution_count": 42,
     "metadata": {},
     "output_type": "execute_result"
    }
   ],
   "source": [
    "df.head(2)                   # will print the starting two rows"
   ]
  },
  {
   "cell_type": "code",
   "execution_count": 43,
   "id": "84cbcd8f",
   "metadata": {},
   "outputs": [
    {
     "data": {
      "text/html": [
       "<div>\n",
       "<style scoped>\n",
       "    .dataframe tbody tr th:only-of-type {\n",
       "        vertical-align: middle;\n",
       "    }\n",
       "\n",
       "    .dataframe tbody tr th {\n",
       "        vertical-align: top;\n",
       "    }\n",
       "\n",
       "    .dataframe thead th {\n",
       "        text-align: right;\n",
       "    }\n",
       "</style>\n",
       "<table border=\"1\" class=\"dataframe\">\n",
       "  <thead>\n",
       "    <tr style=\"text-align: right;\">\n",
       "      <th></th>\n",
       "      <th>Name</th>\n",
       "      <th>Age</th>\n",
       "      <th>Marks</th>\n",
       "      <th>Department</th>\n",
       "    </tr>\n",
       "  </thead>\n",
       "  <tbody>\n",
       "    <tr>\n",
       "      <th>3</th>\n",
       "      <td>yuvraj</td>\n",
       "      <td>10</td>\n",
       "      <td>90</td>\n",
       "      <td>Civil</td>\n",
       "    </tr>\n",
       "    <tr>\n",
       "      <th>4</th>\n",
       "      <td>alice</td>\n",
       "      <td>19</td>\n",
       "      <td>14</td>\n",
       "      <td>Mechanical</td>\n",
       "    </tr>\n",
       "  </tbody>\n",
       "</table>\n",
       "</div>"
      ],
      "text/plain": [
       "     Name  Age  Marks  Department\n",
       "3  yuvraj   10     90       Civil\n",
       "4   alice   19     14  Mechanical"
      ]
     },
     "execution_count": 43,
     "metadata": {},
     "output_type": "execute_result"
    }
   ],
   "source": [
    "df.tail(2)                # will print last two rows  "
   ]
  },
  {
   "cell_type": "code",
   "execution_count": 44,
   "id": "5affaa57",
   "metadata": {},
   "outputs": [
    {
     "data": {
      "text/html": [
       "<div>\n",
       "<style scoped>\n",
       "    .dataframe tbody tr th:only-of-type {\n",
       "        vertical-align: middle;\n",
       "    }\n",
       "\n",
       "    .dataframe tbody tr th {\n",
       "        vertical-align: top;\n",
       "    }\n",
       "\n",
       "    .dataframe thead th {\n",
       "        text-align: right;\n",
       "    }\n",
       "</style>\n",
       "<table border=\"1\" class=\"dataframe\">\n",
       "  <thead>\n",
       "    <tr style=\"text-align: right;\">\n",
       "      <th></th>\n",
       "      <th>Name</th>\n",
       "      <th>Age</th>\n",
       "      <th>Marks</th>\n",
       "      <th>Department</th>\n",
       "    </tr>\n",
       "  </thead>\n",
       "  <tbody>\n",
       "    <tr>\n",
       "      <th>1</th>\n",
       "      <td>bob</td>\n",
       "      <td>24</td>\n",
       "      <td>40</td>\n",
       "      <td>Electrical</td>\n",
       "    </tr>\n",
       "    <tr>\n",
       "      <th>2</th>\n",
       "      <td>charlie</td>\n",
       "      <td>15</td>\n",
       "      <td>39</td>\n",
       "      <td>Electronics</td>\n",
       "    </tr>\n",
       "  </tbody>\n",
       "</table>\n",
       "</div>"
      ],
      "text/plain": [
       "      Name  Age  Marks   Department\n",
       "1      bob   24     40   Electrical\n",
       "2  charlie   15     39  Electronics"
      ]
     },
     "execution_count": 44,
     "metadata": {},
     "output_type": "execute_result"
    }
   ],
   "source": [
    "df.iloc[1:3]"
   ]
  },
  {
   "cell_type": "code",
   "execution_count": 45,
   "id": "952b0fe6",
   "metadata": {},
   "outputs": [
    {
     "data": {
      "text/html": [
       "<div>\n",
       "<style scoped>\n",
       "    .dataframe tbody tr th:only-of-type {\n",
       "        vertical-align: middle;\n",
       "    }\n",
       "\n",
       "    .dataframe tbody tr th {\n",
       "        vertical-align: top;\n",
       "    }\n",
       "\n",
       "    .dataframe thead th {\n",
       "        text-align: right;\n",
       "    }\n",
       "</style>\n",
       "<table border=\"1\" class=\"dataframe\">\n",
       "  <thead>\n",
       "    <tr style=\"text-align: right;\">\n",
       "      <th></th>\n",
       "      <th>Name</th>\n",
       "      <th>Age</th>\n",
       "      <th>Marks</th>\n",
       "      <th>Department</th>\n",
       "    </tr>\n",
       "  </thead>\n",
       "  <tbody>\n",
       "    <tr>\n",
       "      <th>1</th>\n",
       "      <td>bob</td>\n",
       "      <td>24</td>\n",
       "      <td>40</td>\n",
       "      <td>Electrical</td>\n",
       "    </tr>\n",
       "    <tr>\n",
       "      <th>2</th>\n",
       "      <td>charlie</td>\n",
       "      <td>15</td>\n",
       "      <td>39</td>\n",
       "      <td>Electronics</td>\n",
       "    </tr>\n",
       "    <tr>\n",
       "      <th>3</th>\n",
       "      <td>yuvraj</td>\n",
       "      <td>10</td>\n",
       "      <td>90</td>\n",
       "      <td>Civil</td>\n",
       "    </tr>\n",
       "  </tbody>\n",
       "</table>\n",
       "</div>"
      ],
      "text/plain": [
       "      Name  Age  Marks   Department\n",
       "1      bob   24     40   Electrical\n",
       "2  charlie   15     39  Electronics\n",
       "3   yuvraj   10     90        Civil"
      ]
     },
     "execution_count": 45,
     "metadata": {},
     "output_type": "execute_result"
    }
   ],
   "source": [
    "df.loc[1:3]"
   ]
  },
  {
   "cell_type": "code",
   "execution_count": 34,
   "id": "89ab3dd9",
   "metadata": {},
   "outputs": [
    {
     "data": {
      "text/html": [
       "<div>\n",
       "<style scoped>\n",
       "    .dataframe tbody tr th:only-of-type {\n",
       "        vertical-align: middle;\n",
       "    }\n",
       "\n",
       "    .dataframe tbody tr th {\n",
       "        vertical-align: top;\n",
       "    }\n",
       "\n",
       "    .dataframe thead th {\n",
       "        text-align: right;\n",
       "    }\n",
       "</style>\n",
       "<table border=\"1\" class=\"dataframe\">\n",
       "  <thead>\n",
       "    <tr style=\"text-align: right;\">\n",
       "      <th></th>\n",
       "      <th>Name</th>\n",
       "      <th>Age</th>\n",
       "    </tr>\n",
       "  </thead>\n",
       "  <tbody>\n",
       "    <tr>\n",
       "      <th>1</th>\n",
       "      <td>bob</td>\n",
       "      <td>24</td>\n",
       "    </tr>\n",
       "    <tr>\n",
       "      <th>2</th>\n",
       "      <td>charlie</td>\n",
       "      <td>15</td>\n",
       "    </tr>\n",
       "    <tr>\n",
       "      <th>3</th>\n",
       "      <td>yuvraj</td>\n",
       "      <td>10</td>\n",
       "    </tr>\n",
       "  </tbody>\n",
       "</table>\n",
       "</div>"
      ],
      "text/plain": [
       "      Name  Age\n",
       "1      bob   24\n",
       "2  charlie   15\n",
       "3   yuvraj   10"
      ]
     },
     "execution_count": 34,
     "metadata": {},
     "output_type": "execute_result"
    }
   ],
   "source": [
    "df.loc[1:3, [\"Name\", \"Age\"]]     # will print first 3 rows of name and age "
   ]
  },
  {
   "cell_type": "code",
   "execution_count": 35,
   "id": "c2d9b348",
   "metadata": {},
   "outputs": [
    {
     "data": {
      "text/html": [
       "<div>\n",
       "<style scoped>\n",
       "    .dataframe tbody tr th:only-of-type {\n",
       "        vertical-align: middle;\n",
       "    }\n",
       "\n",
       "    .dataframe tbody tr th {\n",
       "        vertical-align: top;\n",
       "    }\n",
       "\n",
       "    .dataframe thead th {\n",
       "        text-align: right;\n",
       "    }\n",
       "</style>\n",
       "<table border=\"1\" class=\"dataframe\">\n",
       "  <thead>\n",
       "    <tr style=\"text-align: right;\">\n",
       "      <th></th>\n",
       "      <th>Name</th>\n",
       "      <th>Age</th>\n",
       "    </tr>\n",
       "  </thead>\n",
       "  <tbody>\n",
       "    <tr>\n",
       "      <th>1</th>\n",
       "      <td>bob</td>\n",
       "      <td>24</td>\n",
       "    </tr>\n",
       "    <tr>\n",
       "      <th>2</th>\n",
       "      <td>charlie</td>\n",
       "      <td>15</td>\n",
       "    </tr>\n",
       "  </tbody>\n",
       "</table>\n",
       "</div>"
      ],
      "text/plain": [
       "      Name  Age\n",
       "1      bob   24\n",
       "2  charlie   15"
      ]
     },
     "execution_count": 35,
     "metadata": {},
     "output_type": "execute_result"
    }
   ],
   "source": [
    "df.iloc[1:3, :2]               # [rows, column]"
   ]
  },
  {
   "cell_type": "code",
   "execution_count": 62,
   "id": "579f1a38",
   "metadata": {},
   "outputs": [
    {
     "data": {
      "text/plain": [
       "0            CSE\n",
       "1     Electrical\n",
       "2    Electronics\n",
       "3          Civil\n",
       "4     Mechanical\n",
       "Name: Department, dtype: object"
      ]
     },
     "execution_count": 62,
     "metadata": {},
     "output_type": "execute_result"
    }
   ],
   "source": [
    "# To access one particular column , columns are also known as features \n",
    "\n",
    "df[\"Department\"]"
   ]
  },
  {
   "cell_type": "code",
   "execution_count": 47,
   "id": "33e33493",
   "metadata": {},
   "outputs": [
    {
     "data": {
      "text/html": [
       "<div>\n",
       "<style scoped>\n",
       "    .dataframe tbody tr th:only-of-type {\n",
       "        vertical-align: middle;\n",
       "    }\n",
       "\n",
       "    .dataframe tbody tr th {\n",
       "        vertical-align: top;\n",
       "    }\n",
       "\n",
       "    .dataframe thead th {\n",
       "        text-align: right;\n",
       "    }\n",
       "</style>\n",
       "<table border=\"1\" class=\"dataframe\">\n",
       "  <thead>\n",
       "    <tr style=\"text-align: right;\">\n",
       "      <th></th>\n",
       "      <th>Name</th>\n",
       "      <th>Department</th>\n",
       "    </tr>\n",
       "  </thead>\n",
       "  <tbody>\n",
       "    <tr>\n",
       "      <th>0</th>\n",
       "      <td>deepak</td>\n",
       "      <td>CSE</td>\n",
       "    </tr>\n",
       "    <tr>\n",
       "      <th>1</th>\n",
       "      <td>bob</td>\n",
       "      <td>Electrical</td>\n",
       "    </tr>\n",
       "    <tr>\n",
       "      <th>2</th>\n",
       "      <td>charlie</td>\n",
       "      <td>Electronics</td>\n",
       "    </tr>\n",
       "    <tr>\n",
       "      <th>3</th>\n",
       "      <td>yuvraj</td>\n",
       "      <td>Civil</td>\n",
       "    </tr>\n",
       "    <tr>\n",
       "      <th>4</th>\n",
       "      <td>alice</td>\n",
       "      <td>Mechanical</td>\n",
       "    </tr>\n",
       "  </tbody>\n",
       "</table>\n",
       "</div>"
      ],
      "text/plain": [
       "      Name   Department\n",
       "0   deepak          CSE\n",
       "1      bob   Electrical\n",
       "2  charlie  Electronics\n",
       "3   yuvraj        Civil\n",
       "4    alice   Mechanical"
      ]
     },
     "execution_count": 47,
     "metadata": {},
     "output_type": "execute_result"
    }
   ],
   "source": [
    "# For accessing multiple columns \n",
    "\n",
    "df[[\"Name\", \"Department\"]]              #dont forget to put the inside square brackets "
   ]
  },
  {
   "cell_type": "code",
   "execution_count": null,
   "id": "7b681ddb",
   "metadata": {},
   "outputs": [
    {
     "data": {
      "text/html": [
       "<div>\n",
       "<style scoped>\n",
       "    .dataframe tbody tr th:only-of-type {\n",
       "        vertical-align: middle;\n",
       "    }\n",
       "\n",
       "    .dataframe tbody tr th {\n",
       "        vertical-align: top;\n",
       "    }\n",
       "\n",
       "    .dataframe thead th {\n",
       "        text-align: right;\n",
       "    }\n",
       "</style>\n",
       "<table border=\"1\" class=\"dataframe\">\n",
       "  <thead>\n",
       "    <tr style=\"text-align: right;\">\n",
       "      <th></th>\n",
       "      <th>Name</th>\n",
       "      <th>Marks</th>\n",
       "      <th>Department</th>\n",
       "    </tr>\n",
       "  </thead>\n",
       "  <tbody>\n",
       "    <tr>\n",
       "      <th>0</th>\n",
       "      <td>deepak</td>\n",
       "      <td>66</td>\n",
       "      <td>CSE</td>\n",
       "    </tr>\n",
       "    <tr>\n",
       "      <th>1</th>\n",
       "      <td>bob</td>\n",
       "      <td>40</td>\n",
       "      <td>Electrical</td>\n",
       "    </tr>\n",
       "    <tr>\n",
       "      <th>2</th>\n",
       "      <td>charlie</td>\n",
       "      <td>39</td>\n",
       "      <td>Electronics</td>\n",
       "    </tr>\n",
       "    <tr>\n",
       "      <th>3</th>\n",
       "      <td>yuvraj</td>\n",
       "      <td>90</td>\n",
       "      <td>Civil</td>\n",
       "    </tr>\n",
       "    <tr>\n",
       "      <th>4</th>\n",
       "      <td>alice</td>\n",
       "      <td>14</td>\n",
       "      <td>Mechanical</td>\n",
       "    </tr>\n",
       "  </tbody>\n",
       "</table>\n",
       "</div>"
      ],
      "text/plain": [
       "      Name  Marks   Department\n",
       "0   deepak     66          CSE\n",
       "1      bob     40   Electrical\n",
       "2  charlie     39  Electronics\n",
       "3   yuvraj     90        Civil\n",
       "4    alice     14   Mechanical"
      ]
     },
     "execution_count": 49,
     "metadata": {},
     "output_type": "execute_result"
    }
   ],
   "source": [
    "# to delete a particular column (axis = 1) \n",
    "\n",
    "df.drop(\"Age\", axis=1)"
   ]
  },
  {
   "cell_type": "code",
   "execution_count": 52,
   "id": "dd5d00da",
   "metadata": {},
   "outputs": [
    {
     "data": {
      "text/html": [
       "<div>\n",
       "<style scoped>\n",
       "    .dataframe tbody tr th:only-of-type {\n",
       "        vertical-align: middle;\n",
       "    }\n",
       "\n",
       "    .dataframe tbody tr th {\n",
       "        vertical-align: top;\n",
       "    }\n",
       "\n",
       "    .dataframe thead th {\n",
       "        text-align: right;\n",
       "    }\n",
       "</style>\n",
       "<table border=\"1\" class=\"dataframe\">\n",
       "  <thead>\n",
       "    <tr style=\"text-align: right;\">\n",
       "      <th></th>\n",
       "      <th>Name</th>\n",
       "      <th>Age</th>\n",
       "      <th>Marks</th>\n",
       "      <th>Department</th>\n",
       "    </tr>\n",
       "  </thead>\n",
       "  <tbody>\n",
       "    <tr>\n",
       "      <th>0</th>\n",
       "      <td>deepak</td>\n",
       "      <td>20</td>\n",
       "      <td>66</td>\n",
       "      <td>CSE</td>\n",
       "    </tr>\n",
       "    <tr>\n",
       "      <th>1</th>\n",
       "      <td>bob</td>\n",
       "      <td>24</td>\n",
       "      <td>40</td>\n",
       "      <td>Electrical</td>\n",
       "    </tr>\n",
       "    <tr>\n",
       "      <th>2</th>\n",
       "      <td>charlie</td>\n",
       "      <td>15</td>\n",
       "      <td>39</td>\n",
       "      <td>Electronics</td>\n",
       "    </tr>\n",
       "    <tr>\n",
       "      <th>3</th>\n",
       "      <td>yuvraj</td>\n",
       "      <td>10</td>\n",
       "      <td>90</td>\n",
       "      <td>Civil</td>\n",
       "    </tr>\n",
       "    <tr>\n",
       "      <th>4</th>\n",
       "      <td>alice</td>\n",
       "      <td>19</td>\n",
       "      <td>14</td>\n",
       "      <td>Mechanical</td>\n",
       "    </tr>\n",
       "  </tbody>\n",
       "</table>\n",
       "</div>"
      ],
      "text/plain": [
       "      Name  Age  Marks   Department\n",
       "0   deepak   20     66          CSE\n",
       "1      bob   24     40   Electrical\n",
       "2  charlie   15     39  Electronics\n",
       "3   yuvraj   10     90        Civil\n",
       "4    alice   19     14   Mechanical"
      ]
     },
     "execution_count": 52,
     "metadata": {},
     "output_type": "execute_result"
    }
   ],
   "source": [
    "df      # age column has not been dropped from the original dataframe, to do so , use the parameter inplace = True ."
   ]
  },
  {
   "cell_type": "code",
   "execution_count": 54,
   "id": "7f4c8902",
   "metadata": {},
   "outputs": [
    {
     "data": {
      "text/plain": [
       "(5, 4)"
      ]
     },
     "execution_count": 54,
     "metadata": {},
     "output_type": "execute_result"
    }
   ],
   "source": [
    "df.shape    # will give you the number of rows and columns , and indexes are not counted as a part of column "
   ]
  },
  {
   "cell_type": "code",
   "execution_count": 57,
   "id": "3eb8adb9",
   "metadata": {},
   "outputs": [
    {
     "data": {
      "text/plain": [
       "Name          object\n",
       "Age            int64\n",
       "Marks          int64\n",
       "Department    object\n",
       "dtype: object"
      ]
     },
     "execution_count": 57,
     "metadata": {},
     "output_type": "execute_result"
    }
   ],
   "source": [
    "df.dtypes       # tells you the data type "
   ]
  },
  {
   "cell_type": "code",
   "execution_count": 59,
   "id": "656aaaf1",
   "metadata": {},
   "outputs": [
    {
     "name": "stdout",
     "output_type": "stream",
     "text": [
      "<class 'pandas.core.frame.DataFrame'>\n",
      "RangeIndex: 5 entries, 0 to 4\n",
      "Data columns (total 4 columns):\n",
      " #   Column      Non-Null Count  Dtype \n",
      "---  ------      --------------  ----- \n",
      " 0   Name        5 non-null      object\n",
      " 1   Age         5 non-null      int64 \n",
      " 2   Marks       5 non-null      int64 \n",
      " 3   Department  5 non-null      object\n",
      "dtypes: int64(2), object(2)\n",
      "memory usage: 292.0+ bytes\n"
     ]
    }
   ],
   "source": [
    "df.info()"
   ]
  },
  {
   "cell_type": "code",
   "execution_count": 61,
   "id": "51266517",
   "metadata": {},
   "outputs": [
    {
     "data": {
      "text/html": [
       "<div>\n",
       "<style scoped>\n",
       "    .dataframe tbody tr th:only-of-type {\n",
       "        vertical-align: middle;\n",
       "    }\n",
       "\n",
       "    .dataframe tbody tr th {\n",
       "        vertical-align: top;\n",
       "    }\n",
       "\n",
       "    .dataframe thead th {\n",
       "        text-align: right;\n",
       "    }\n",
       "</style>\n",
       "<table border=\"1\" class=\"dataframe\">\n",
       "  <thead>\n",
       "    <tr style=\"text-align: right;\">\n",
       "      <th></th>\n",
       "      <th>Age</th>\n",
       "      <th>Marks</th>\n",
       "    </tr>\n",
       "  </thead>\n",
       "  <tbody>\n",
       "    <tr>\n",
       "      <th>count</th>\n",
       "      <td>5.000000</td>\n",
       "      <td>5.000000</td>\n",
       "    </tr>\n",
       "    <tr>\n",
       "      <th>mean</th>\n",
       "      <td>17.600000</td>\n",
       "      <td>49.800000</td>\n",
       "    </tr>\n",
       "    <tr>\n",
       "      <th>std</th>\n",
       "      <td>5.319774</td>\n",
       "      <td>29.037906</td>\n",
       "    </tr>\n",
       "    <tr>\n",
       "      <th>min</th>\n",
       "      <td>10.000000</td>\n",
       "      <td>14.000000</td>\n",
       "    </tr>\n",
       "    <tr>\n",
       "      <th>25%</th>\n",
       "      <td>15.000000</td>\n",
       "      <td>39.000000</td>\n",
       "    </tr>\n",
       "    <tr>\n",
       "      <th>50%</th>\n",
       "      <td>19.000000</td>\n",
       "      <td>40.000000</td>\n",
       "    </tr>\n",
       "    <tr>\n",
       "      <th>75%</th>\n",
       "      <td>20.000000</td>\n",
       "      <td>66.000000</td>\n",
       "    </tr>\n",
       "    <tr>\n",
       "      <th>max</th>\n",
       "      <td>24.000000</td>\n",
       "      <td>90.000000</td>\n",
       "    </tr>\n",
       "  </tbody>\n",
       "</table>\n",
       "</div>"
      ],
      "text/plain": [
       "             Age      Marks\n",
       "count   5.000000   5.000000\n",
       "mean   17.600000  49.800000\n",
       "std     5.319774  29.037906\n",
       "min    10.000000  14.000000\n",
       "25%    15.000000  39.000000\n",
       "50%    19.000000  40.000000\n",
       "75%    20.000000  66.000000\n",
       "max    24.000000  90.000000"
      ]
     },
     "execution_count": 61,
     "metadata": {},
     "output_type": "execute_result"
    }
   ],
   "source": [
    "df.describe()      # will give the statistical analysis of the dataframe "
   ]
  },
  {
   "cell_type": "markdown",
   "id": "85411810",
   "metadata": {},
   "source": [
    "##### Broadcasting in Pandas "
   ]
  },
  {
   "cell_type": "code",
   "execution_count": 66,
   "id": "8f4c199f",
   "metadata": {},
   "outputs": [],
   "source": [
    "df[\"Marks\"] = df[\"Marks\"] + 100      # addition operation has been performed "
   ]
  },
  {
   "cell_type": "code",
   "execution_count": 67,
   "id": "b6bcceee",
   "metadata": {},
   "outputs": [
    {
     "data": {
      "text/plain": [
       "0    266\n",
       "1    240\n",
       "2    239\n",
       "3    290\n",
       "4    214\n",
       "Name: Marks, dtype: int64"
      ]
     },
     "execution_count": 67,
     "metadata": {},
     "output_type": "execute_result"
    }
   ],
   "source": [
    "df[\"Marks\"]"
   ]
  },
  {
   "cell_type": "code",
   "execution_count": 68,
   "id": "62860d38",
   "metadata": {},
   "outputs": [
    {
     "data": {
      "text/html": [
       "<div>\n",
       "<style scoped>\n",
       "    .dataframe tbody tr th:only-of-type {\n",
       "        vertical-align: middle;\n",
       "    }\n",
       "\n",
       "    .dataframe tbody tr th {\n",
       "        vertical-align: top;\n",
       "    }\n",
       "\n",
       "    .dataframe thead th {\n",
       "        text-align: right;\n",
       "    }\n",
       "</style>\n",
       "<table border=\"1\" class=\"dataframe\">\n",
       "  <thead>\n",
       "    <tr style=\"text-align: right;\">\n",
       "      <th></th>\n",
       "      <th>Name</th>\n",
       "      <th>Age</th>\n",
       "      <th>mkrs</th>\n",
       "      <th>Department</th>\n",
       "    </tr>\n",
       "  </thead>\n",
       "  <tbody>\n",
       "    <tr>\n",
       "      <th>0</th>\n",
       "      <td>deepak</td>\n",
       "      <td>20</td>\n",
       "      <td>266</td>\n",
       "      <td>CSE</td>\n",
       "    </tr>\n",
       "    <tr>\n",
       "      <th>1</th>\n",
       "      <td>bob</td>\n",
       "      <td>24</td>\n",
       "      <td>240</td>\n",
       "      <td>Electrical</td>\n",
       "    </tr>\n",
       "    <tr>\n",
       "      <th>2</th>\n",
       "      <td>charlie</td>\n",
       "      <td>15</td>\n",
       "      <td>239</td>\n",
       "      <td>Electronics</td>\n",
       "    </tr>\n",
       "    <tr>\n",
       "      <th>3</th>\n",
       "      <td>yuvraj</td>\n",
       "      <td>10</td>\n",
       "      <td>290</td>\n",
       "      <td>Civil</td>\n",
       "    </tr>\n",
       "    <tr>\n",
       "      <th>4</th>\n",
       "      <td>alice</td>\n",
       "      <td>19</td>\n",
       "      <td>214</td>\n",
       "      <td>Mechanical</td>\n",
       "    </tr>\n",
       "  </tbody>\n",
       "</table>\n",
       "</div>"
      ],
      "text/plain": [
       "      Name  Age  mkrs   Department\n",
       "0   deepak   20   266          CSE\n",
       "1      bob   24   240   Electrical\n",
       "2  charlie   15   239  Electronics\n",
       "3   yuvraj   10   290        Civil\n",
       "4    alice   19   214   Mechanical"
      ]
     },
     "execution_count": 68,
     "metadata": {},
     "output_type": "execute_result"
    }
   ],
   "source": [
    "# Renaming the columns :\n",
    "\n",
    "df.rename(columns = {\"Marks\": \"mkrs\"})"
   ]
  },
  {
   "cell_type": "code",
   "execution_count": 69,
   "id": "3788cea7",
   "metadata": {},
   "outputs": [],
   "source": [
    "df.rename(columns = {\"Marks\": \"mkrs\"}, inplace = True)   # this will change the original dataframe"
   ]
  },
  {
   "cell_type": "code",
   "execution_count": 70,
   "id": "7aa5575f",
   "metadata": {},
   "outputs": [
    {
     "data": {
      "text/html": [
       "<div>\n",
       "<style scoped>\n",
       "    .dataframe tbody tr th:only-of-type {\n",
       "        vertical-align: middle;\n",
       "    }\n",
       "\n",
       "    .dataframe tbody tr th {\n",
       "        vertical-align: top;\n",
       "    }\n",
       "\n",
       "    .dataframe thead th {\n",
       "        text-align: right;\n",
       "    }\n",
       "</style>\n",
       "<table border=\"1\" class=\"dataframe\">\n",
       "  <thead>\n",
       "    <tr style=\"text-align: right;\">\n",
       "      <th></th>\n",
       "      <th>Name</th>\n",
       "      <th>Age</th>\n",
       "      <th>mkrs</th>\n",
       "      <th>Department</th>\n",
       "    </tr>\n",
       "  </thead>\n",
       "  <tbody>\n",
       "    <tr>\n",
       "      <th>0</th>\n",
       "      <td>deepak</td>\n",
       "      <td>20</td>\n",
       "      <td>266</td>\n",
       "      <td>CSE</td>\n",
       "    </tr>\n",
       "    <tr>\n",
       "      <th>1</th>\n",
       "      <td>bob</td>\n",
       "      <td>24</td>\n",
       "      <td>240</td>\n",
       "      <td>Electrical</td>\n",
       "    </tr>\n",
       "    <tr>\n",
       "      <th>2</th>\n",
       "      <td>charlie</td>\n",
       "      <td>15</td>\n",
       "      <td>239</td>\n",
       "      <td>Electronics</td>\n",
       "    </tr>\n",
       "    <tr>\n",
       "      <th>3</th>\n",
       "      <td>yuvraj</td>\n",
       "      <td>10</td>\n",
       "      <td>290</td>\n",
       "      <td>Civil</td>\n",
       "    </tr>\n",
       "    <tr>\n",
       "      <th>4</th>\n",
       "      <td>alice</td>\n",
       "      <td>19</td>\n",
       "      <td>214</td>\n",
       "      <td>Mechanical</td>\n",
       "    </tr>\n",
       "  </tbody>\n",
       "</table>\n",
       "</div>"
      ],
      "text/plain": [
       "      Name  Age  mkrs   Department\n",
       "0   deepak   20   266          CSE\n",
       "1      bob   24   240   Electrical\n",
       "2  charlie   15   239  Electronics\n",
       "3   yuvraj   10   290        Civil\n",
       "4    alice   19   214   Mechanical"
      ]
     },
     "execution_count": 70,
     "metadata": {},
     "output_type": "execute_result"
    }
   ],
   "source": [
    "df"
   ]
  },
  {
   "cell_type": "code",
   "execution_count": 71,
   "id": "5a0d4512",
   "metadata": {},
   "outputs": [
    {
     "data": {
      "text/plain": [
       "array([266, 240, 239, 290, 214])"
      ]
     },
     "execution_count": 71,
     "metadata": {},
     "output_type": "execute_result"
    }
   ],
   "source": [
    "# to check unique values in a particular column : \n",
    "\n",
    "df[\"mkrs\"].unique()"
   ]
  },
  {
   "cell_type": "code",
   "execution_count": 74,
   "id": "d62b9962",
   "metadata": {},
   "outputs": [
    {
     "data": {
      "text/plain": [
       "Department\n",
       "CSE            1\n",
       "Electrical     1\n",
       "Electronics    1\n",
       "Civil          1\n",
       "Mechanical     1\n",
       "Name: count, dtype: int64"
      ]
     },
     "execution_count": 74,
     "metadata": {},
     "output_type": "execute_result"
    }
   ],
   "source": [
    "# to check distributions of data \n",
    "\n",
    "df[\"Department\"].value_counts()                "
   ]
  },
  {
   "cell_type": "code",
   "execution_count": 76,
   "id": "651088f6",
   "metadata": {},
   "outputs": [],
   "source": [
    "# to create a new column in a dataset \n",
    "\n",
    "df[\"extra marks\"] = df[\"mkrs\"] * 2"
   ]
  },
  {
   "cell_type": "code",
   "execution_count": 77,
   "id": "d5454678",
   "metadata": {},
   "outputs": [
    {
     "data": {
      "text/html": [
       "<div>\n",
       "<style scoped>\n",
       "    .dataframe tbody tr th:only-of-type {\n",
       "        vertical-align: middle;\n",
       "    }\n",
       "\n",
       "    .dataframe tbody tr th {\n",
       "        vertical-align: top;\n",
       "    }\n",
       "\n",
       "    .dataframe thead th {\n",
       "        text-align: right;\n",
       "    }\n",
       "</style>\n",
       "<table border=\"1\" class=\"dataframe\">\n",
       "  <thead>\n",
       "    <tr style=\"text-align: right;\">\n",
       "      <th></th>\n",
       "      <th>Name</th>\n",
       "      <th>Age</th>\n",
       "      <th>mkrs</th>\n",
       "      <th>Department</th>\n",
       "      <th>extra marks</th>\n",
       "    </tr>\n",
       "  </thead>\n",
       "  <tbody>\n",
       "    <tr>\n",
       "      <th>0</th>\n",
       "      <td>deepak</td>\n",
       "      <td>20</td>\n",
       "      <td>266</td>\n",
       "      <td>CSE</td>\n",
       "      <td>532</td>\n",
       "    </tr>\n",
       "    <tr>\n",
       "      <th>1</th>\n",
       "      <td>bob</td>\n",
       "      <td>24</td>\n",
       "      <td>240</td>\n",
       "      <td>Electrical</td>\n",
       "      <td>480</td>\n",
       "    </tr>\n",
       "    <tr>\n",
       "      <th>2</th>\n",
       "      <td>charlie</td>\n",
       "      <td>15</td>\n",
       "      <td>239</td>\n",
       "      <td>Electronics</td>\n",
       "      <td>478</td>\n",
       "    </tr>\n",
       "    <tr>\n",
       "      <th>3</th>\n",
       "      <td>yuvraj</td>\n",
       "      <td>10</td>\n",
       "      <td>290</td>\n",
       "      <td>Civil</td>\n",
       "      <td>580</td>\n",
       "    </tr>\n",
       "    <tr>\n",
       "      <th>4</th>\n",
       "      <td>alice</td>\n",
       "      <td>19</td>\n",
       "      <td>214</td>\n",
       "      <td>Mechanical</td>\n",
       "      <td>428</td>\n",
       "    </tr>\n",
       "  </tbody>\n",
       "</table>\n",
       "</div>"
      ],
      "text/plain": [
       "      Name  Age  mkrs   Department  extra marks\n",
       "0   deepak   20   266          CSE          532\n",
       "1      bob   24   240   Electrical          480\n",
       "2  charlie   15   239  Electronics          478\n",
       "3   yuvraj   10   290        Civil          580\n",
       "4    alice   19   214   Mechanical          428"
      ]
     },
     "execution_count": 77,
     "metadata": {},
     "output_type": "execute_result"
    }
   ],
   "source": [
    "df"
   ]
  },
  {
   "cell_type": "code",
   "execution_count": 78,
   "id": "bbf3d1fe",
   "metadata": {},
   "outputs": [
    {
     "data": {
      "text/plain": [
       "0     deepak\n",
       "1    Charlie\n",
       "2    charlie\n",
       "3     yuvraj\n",
       "4      alice\n",
       "Name: Name, dtype: object"
      ]
     },
     "execution_count": 78,
     "metadata": {},
     "output_type": "execute_result"
    }
   ],
   "source": [
    "# to replace a value in a column \n",
    "df[\"Name\"].replace(\"bob\", \"Charlie\")"
   ]
  },
  {
   "cell_type": "code",
   "execution_count": 79,
   "id": "b6c27e07",
   "metadata": {},
   "outputs": [
    {
     "data": {
      "text/html": [
       "<div>\n",
       "<style scoped>\n",
       "    .dataframe tbody tr th:only-of-type {\n",
       "        vertical-align: middle;\n",
       "    }\n",
       "\n",
       "    .dataframe tbody tr th {\n",
       "        vertical-align: top;\n",
       "    }\n",
       "\n",
       "    .dataframe thead th {\n",
       "        text-align: right;\n",
       "    }\n",
       "</style>\n",
       "<table border=\"1\" class=\"dataframe\">\n",
       "  <thead>\n",
       "    <tr style=\"text-align: right;\">\n",
       "      <th></th>\n",
       "      <th>Name</th>\n",
       "      <th>Age</th>\n",
       "      <th>mkrs</th>\n",
       "      <th>Department</th>\n",
       "      <th>extra marks</th>\n",
       "    </tr>\n",
       "  </thead>\n",
       "  <tbody>\n",
       "    <tr>\n",
       "      <th>0</th>\n",
       "      <td>deepak</td>\n",
       "      <td>20</td>\n",
       "      <td>266</td>\n",
       "      <td>CSE</td>\n",
       "      <td>532</td>\n",
       "    </tr>\n",
       "    <tr>\n",
       "      <th>1</th>\n",
       "      <td>bob</td>\n",
       "      <td>24</td>\n",
       "      <td>240</td>\n",
       "      <td>Electrical</td>\n",
       "      <td>480</td>\n",
       "    </tr>\n",
       "    <tr>\n",
       "      <th>2</th>\n",
       "      <td>charlie</td>\n",
       "      <td>15</td>\n",
       "      <td>239</td>\n",
       "      <td>Electronics</td>\n",
       "      <td>478</td>\n",
       "    </tr>\n",
       "    <tr>\n",
       "      <th>3</th>\n",
       "      <td>yuvraj</td>\n",
       "      <td>10</td>\n",
       "      <td>290</td>\n",
       "      <td>Civil</td>\n",
       "      <td>580</td>\n",
       "    </tr>\n",
       "    <tr>\n",
       "      <th>4</th>\n",
       "      <td>alice</td>\n",
       "      <td>19</td>\n",
       "      <td>214</td>\n",
       "      <td>Mechanical</td>\n",
       "      <td>428</td>\n",
       "    </tr>\n",
       "  </tbody>\n",
       "</table>\n",
       "</div>"
      ],
      "text/plain": [
       "      Name  Age  mkrs   Department  extra marks\n",
       "0   deepak   20   266          CSE          532\n",
       "1      bob   24   240   Electrical          480\n",
       "2  charlie   15   239  Electronics          478\n",
       "3   yuvraj   10   290        Civil          580\n",
       "4    alice   19   214   Mechanical          428"
      ]
     },
     "execution_count": 79,
     "metadata": {},
     "output_type": "execute_result"
    }
   ],
   "source": [
    "df"
   ]
  },
  {
   "cell_type": "code",
   "execution_count": 80,
   "id": "15dace97",
   "metadata": {},
   "outputs": [],
   "source": [
    "df[\"Name\"].replace(\"bob\", \"Charlie\", inplace= True)"
   ]
  },
  {
   "cell_type": "code",
   "execution_count": 81,
   "id": "ca00d30a",
   "metadata": {},
   "outputs": [
    {
     "data": {
      "text/html": [
       "<div>\n",
       "<style scoped>\n",
       "    .dataframe tbody tr th:only-of-type {\n",
       "        vertical-align: middle;\n",
       "    }\n",
       "\n",
       "    .dataframe tbody tr th {\n",
       "        vertical-align: top;\n",
       "    }\n",
       "\n",
       "    .dataframe thead th {\n",
       "        text-align: right;\n",
       "    }\n",
       "</style>\n",
       "<table border=\"1\" class=\"dataframe\">\n",
       "  <thead>\n",
       "    <tr style=\"text-align: right;\">\n",
       "      <th></th>\n",
       "      <th>Name</th>\n",
       "      <th>Age</th>\n",
       "      <th>mkrs</th>\n",
       "      <th>Department</th>\n",
       "      <th>extra marks</th>\n",
       "    </tr>\n",
       "  </thead>\n",
       "  <tbody>\n",
       "    <tr>\n",
       "      <th>0</th>\n",
       "      <td>deepak</td>\n",
       "      <td>20</td>\n",
       "      <td>266</td>\n",
       "      <td>CSE</td>\n",
       "      <td>532</td>\n",
       "    </tr>\n",
       "    <tr>\n",
       "      <th>1</th>\n",
       "      <td>Charlie</td>\n",
       "      <td>24</td>\n",
       "      <td>240</td>\n",
       "      <td>Electrical</td>\n",
       "      <td>480</td>\n",
       "    </tr>\n",
       "    <tr>\n",
       "      <th>2</th>\n",
       "      <td>charlie</td>\n",
       "      <td>15</td>\n",
       "      <td>239</td>\n",
       "      <td>Electronics</td>\n",
       "      <td>478</td>\n",
       "    </tr>\n",
       "    <tr>\n",
       "      <th>3</th>\n",
       "      <td>yuvraj</td>\n",
       "      <td>10</td>\n",
       "      <td>290</td>\n",
       "      <td>Civil</td>\n",
       "      <td>580</td>\n",
       "    </tr>\n",
       "    <tr>\n",
       "      <th>4</th>\n",
       "      <td>alice</td>\n",
       "      <td>19</td>\n",
       "      <td>214</td>\n",
       "      <td>Mechanical</td>\n",
       "      <td>428</td>\n",
       "    </tr>\n",
       "  </tbody>\n",
       "</table>\n",
       "</div>"
      ],
      "text/plain": [
       "      Name  Age  mkrs   Department  extra marks\n",
       "0   deepak   20   266          CSE          532\n",
       "1  Charlie   24   240   Electrical          480\n",
       "2  charlie   15   239  Electronics          478\n",
       "3   yuvraj   10   290        Civil          580\n",
       "4    alice   19   214   Mechanical          428"
      ]
     },
     "execution_count": 81,
     "metadata": {},
     "output_type": "execute_result"
    }
   ],
   "source": [
    "df"
   ]
  },
  {
   "cell_type": "markdown",
   "id": "3946a2fb",
   "metadata": {},
   "source": [
    "##### Apply and lamda functions : they let you change single entries of a row or a column based on some conditions \n"
   ]
  },
  {
   "cell_type": "code",
   "execution_count": 84,
   "id": "40e2adf2",
   "metadata": {},
   "outputs": [
    {
     "data": {
      "text/html": [
       "<div>\n",
       "<style scoped>\n",
       "    .dataframe tbody tr th:only-of-type {\n",
       "        vertical-align: middle;\n",
       "    }\n",
       "\n",
       "    .dataframe tbody tr th {\n",
       "        vertical-align: top;\n",
       "    }\n",
       "\n",
       "    .dataframe thead th {\n",
       "        text-align: right;\n",
       "    }\n",
       "</style>\n",
       "<table border=\"1\" class=\"dataframe\">\n",
       "  <thead>\n",
       "    <tr style=\"text-align: right;\">\n",
       "      <th></th>\n",
       "      <th>Name</th>\n",
       "      <th>Age</th>\n",
       "      <th>mkrs</th>\n",
       "      <th>Department</th>\n",
       "      <th>extra marks</th>\n",
       "    </tr>\n",
       "  </thead>\n",
       "  <tbody>\n",
       "    <tr>\n",
       "      <th>0</th>\n",
       "      <td>deepak</td>\n",
       "      <td>20</td>\n",
       "      <td>66.50</td>\n",
       "      <td>CSE</td>\n",
       "      <td>532</td>\n",
       "    </tr>\n",
       "    <tr>\n",
       "      <th>1</th>\n",
       "      <td>Charlie</td>\n",
       "      <td>24</td>\n",
       "      <td>60.00</td>\n",
       "      <td>Electrical</td>\n",
       "      <td>480</td>\n",
       "    </tr>\n",
       "    <tr>\n",
       "      <th>2</th>\n",
       "      <td>charlie</td>\n",
       "      <td>15</td>\n",
       "      <td>59.75</td>\n",
       "      <td>Electronics</td>\n",
       "      <td>478</td>\n",
       "    </tr>\n",
       "    <tr>\n",
       "      <th>3</th>\n",
       "      <td>yuvraj</td>\n",
       "      <td>10</td>\n",
       "      <td>72.50</td>\n",
       "      <td>Civil</td>\n",
       "      <td>580</td>\n",
       "    </tr>\n",
       "    <tr>\n",
       "      <th>4</th>\n",
       "      <td>alice</td>\n",
       "      <td>19</td>\n",
       "      <td>53.50</td>\n",
       "      <td>Mechanical</td>\n",
       "      <td>428</td>\n",
       "    </tr>\n",
       "  </tbody>\n",
       "</table>\n",
       "</div>"
      ],
      "text/plain": [
       "      Name  Age   mkrs   Department  extra marks\n",
       "0   deepak   20  66.50          CSE          532\n",
       "1  Charlie   24  60.00   Electrical          480\n",
       "2  charlie   15  59.75  Electronics          478\n",
       "3   yuvraj   10  72.50        Civil          580\n",
       "4    alice   19  53.50   Mechanical          428"
      ]
     },
     "execution_count": 84,
     "metadata": {},
     "output_type": "execute_result"
    }
   ],
   "source": [
    "df[\"mkrs\"] = df[\"mkrs\"].apply(lambda x: x/2)\n",
    "\n",
    "df"
   ]
  },
  {
   "cell_type": "code",
   "execution_count": null,
   "id": "79f227ff",
   "metadata": {},
   "outputs": [],
   "source": []
  }
 ],
 "metadata": {
  "kernelspec": {
   "display_name": "Python 3",
   "language": "python",
   "name": "python3"
  },
  "language_info": {
   "codemirror_mode": {
    "name": "ipython",
    "version": 3
   },
   "file_extension": ".py",
   "mimetype": "text/x-python",
   "name": "python",
   "nbconvert_exporter": "python",
   "pygments_lexer": "ipython3",
   "version": "3.13.5"
  }
 },
 "nbformat": 4,
 "nbformat_minor": 5
}
