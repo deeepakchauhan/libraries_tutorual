{
 "cells": [
  {
   "cell_type": "markdown",
   "id": "5d59f742",
   "metadata": {},
   "source": [
    "## Getting Started with NumPy Arrays :"
   ]
  },
  {
   "cell_type": "code",
   "execution_count": 1,
   "id": "31fd2409",
   "metadata": {},
   "outputs": [],
   "source": [
    "import numpy as np "
   ]
  },
  {
   "cell_type": "code",
   "execution_count": 2,
   "id": "06f1e844",
   "metadata": {},
   "outputs": [
    {
     "name": "stdout",
     "output_type": "stream",
     "text": [
      "NumPy version:  2.3.1\n"
     ]
    }
   ],
   "source": [
    "print(\"NumPy version: \", np.__version__)"
   ]
  },
  {
   "cell_type": "code",
   "execution_count": 3,
   "id": "c662e150",
   "metadata": {},
   "outputs": [
    {
     "data": {
      "text/plain": [
       "array([1, 2, 3])"
      ]
     },
     "execution_count": 3,
     "metadata": {},
     "output_type": "execute_result"
    }
   ],
   "source": [
    "arr = np.array([1, 2, 3])              # as the number of square brackets increase , the dimension increases \n",
    "\n",
    "np.array(arr)                          # will print the numpy array "
   ]
  },
  {
   "cell_type": "markdown",
   "id": "a280e278",
   "metadata": {},
   "source": [
    "### NumPy arrays using built-in functions :"
   ]
  },
  {
   "cell_type": "code",
   "execution_count": 4,
   "id": "6a6fc049",
   "metadata": {},
   "outputs": [
    {
     "data": {
      "text/plain": [
       "1"
      ]
     },
     "execution_count": 4,
     "metadata": {},
     "output_type": "execute_result"
    }
   ],
   "source": [
    "# dimensions and shape of an array  \n",
    "arr.ndim"
   ]
  },
  {
   "cell_type": "code",
   "execution_count": 5,
   "id": "309df809",
   "metadata": {},
   "outputs": [
    {
     "data": {
      "text/plain": [
       "(3,)"
      ]
     },
     "execution_count": 5,
     "metadata": {},
     "output_type": "execute_result"
    }
   ],
   "source": [
    "# shape of an array : (rows, columns)\n",
    "\n",
    "arr.shape"
   ]
  },
  {
   "cell_type": "code",
   "execution_count": 6,
   "id": "1178affe",
   "metadata": {},
   "outputs": [
    {
     "data": {
      "text/plain": [
       "array([0.  , 0.25, 0.5 , 0.75, 1.  ])"
      ]
     },
     "execution_count": 6,
     "metadata": {},
     "output_type": "execute_result"
    }
   ],
   "source": [
    "arr2 = np.linspace(0,1,5)   # will create an array of numbers between 0 to 5 with a space of 5\n",
    "arr2"
   ]
  },
  {
   "cell_type": "code",
   "execution_count": 7,
   "id": "c7539cf7",
   "metadata": {},
   "outputs": [
    {
     "data": {
      "text/plain": [
       "array([  10.,  100., 1000.])"
      ]
     },
     "execution_count": 7,
     "metadata": {},
     "output_type": "execute_result"
    }
   ],
   "source": [
    "# logarithmic scale array\n",
    "\n",
    "arr3 = np.logspace(1,3,3)   # (10^1, 10^3, 3 points evenly spaced )\n",
    "arr3"
   ]
  },
  {
   "cell_type": "code",
   "execution_count": 8,
   "id": "2ad0fc42",
   "metadata": {},
   "outputs": [
    {
     "data": {
      "text/plain": [
       "array([0., 0., 0., 0., 0.])"
      ]
     },
     "execution_count": 8,
     "metadata": {},
     "output_type": "execute_result"
    }
   ],
   "source": [
    "arr4 = np.zeros(5)   # an array containingg 5 zeroes \n",
    "arr4"
   ]
  },
  {
   "cell_type": "code",
   "execution_count": 9,
   "id": "3a2eb103",
   "metadata": {},
   "outputs": [
    {
     "data": {
      "text/plain": [
       "array([[0., 0., 0.],\n",
       "       [0., 0., 0.]])"
      ]
     },
     "execution_count": 9,
     "metadata": {},
     "output_type": "execute_result"
    }
   ],
   "source": [
    "# Creating a matrix (2D array):\n",
    "\n",
    "arr5 = np.zeros([2,3])         \n",
    "arr5"
   ]
  },
  {
   "cell_type": "code",
   "execution_count": 10,
   "id": "f502fc7f",
   "metadata": {},
   "outputs": [
    {
     "data": {
      "text/plain": [
       "array([[1., 1., 1.],\n",
       "       [1., 1., 1.],\n",
       "       [1., 1., 1.]])"
      ]
     },
     "execution_count": 10,
     "metadata": {},
     "output_type": "execute_result"
    }
   ],
   "source": [
    "arr6 = np.ones([3,3])      # 3*3 matrix with all the entries as 1\n",
    "arr6"
   ]
  },
  {
   "cell_type": "code",
   "execution_count": 11,
   "id": "609c226b",
   "metadata": {},
   "outputs": [
    {
     "data": {
      "text/plain": [
       "array([2, 2, 2, 2, 2, 2, 2, 2, 2, 2])"
      ]
     },
     "execution_count": 11,
     "metadata": {},
     "output_type": "execute_result"
    }
   ],
   "source": [
    "# creating an array full of any value \n",
    "\n",
    "arr = np.full(10,2)    # 10 2s\n",
    "arr"
   ]
  },
  {
   "cell_type": "code",
   "execution_count": 12,
   "id": "e295fe41",
   "metadata": {},
   "outputs": [
    {
     "data": {
      "text/plain": [
       "array([[9, 9, 9],\n",
       "       [9, 9, 9],\n",
       "       [9, 9, 9]])"
      ]
     },
     "execution_count": 12,
     "metadata": {},
     "output_type": "execute_result"
    }
   ],
   "source": [
    "arr = np.full([3,3], 9)    # ([row, column], default value)\n",
    "arr"
   ]
  },
  {
   "cell_type": "code",
   "execution_count": 13,
   "id": "5fb22109",
   "metadata": {},
   "outputs": [
    {
     "data": {
      "text/plain": [
       "array([[0., 0., 0.],\n",
       "       [0., 0., 0.]])"
      ]
     },
     "execution_count": 13,
     "metadata": {},
     "output_type": "execute_result"
    }
   ],
   "source": [
    "# creating uninitialized array\n",
    "\n",
    "arr = np.empty([2,3])\n",
    "arr"
   ]
  },
  {
   "cell_type": "code",
   "execution_count": 14,
   "id": "351d1d00",
   "metadata": {},
   "outputs": [
    {
     "data": {
      "text/plain": [
       "array([0.45927586, 0.5345849 , 0.81974741, 0.24905827, 0.64499278,\n",
       "       0.38256067, 0.3403598 , 0.42373069, 0.55268734, 0.71442531])"
      ]
     },
     "execution_count": 14,
     "metadata": {},
     "output_type": "execute_result"
    }
   ],
   "source": [
    "# generate random floats , uniformly distributed \n",
    "\n",
    "arr = np.random.rand(10)\n",
    "arr"
   ]
  },
  {
   "cell_type": "code",
   "execution_count": 15,
   "id": "21563201",
   "metadata": {},
   "outputs": [
    {
     "data": {
      "text/plain": [
       "array([[0.09258683, 0.1276121 , 0.26296863],\n",
       "       [0.7347793 , 0.7439766 , 0.40114843],\n",
       "       [0.94579941, 0.84392926, 0.47777801]])"
      ]
     },
     "execution_count": 15,
     "metadata": {},
     "output_type": "execute_result"
    }
   ],
   "source": [
    "arr =  np.random.rand(3,3)       # do not use square brackets here \n",
    "arr"
   ]
  },
  {
   "cell_type": "code",
   "execution_count": 16,
   "id": "a0d3bd79",
   "metadata": {},
   "outputs": [
    {
     "data": {
      "text/plain": [
       "array([[ 1.11702067,  0.42585118,  1.460538  ],\n",
       "       [ 0.55255601, -0.87874848,  0.63042367],\n",
       "       [ 0.22566865, -0.54083308,  0.59267863]])"
      ]
     },
     "execution_count": 16,
     "metadata": {},
     "output_type": "execute_result"
    }
   ],
   "source": [
    "# random float from a standard normal distribution ; mean=0, and S.D=1, center is going to be zero\n",
    "\n",
    "arr = np.random.randn(3,3)\n",
    "arr"
   ]
  },
  {
   "cell_type": "code",
   "execution_count": 17,
   "id": "f961b5a1",
   "metadata": {},
   "outputs": [
    {
     "data": {
      "text/plain": [
       "array([14, 20], dtype=int32)"
      ]
     },
     "execution_count": 17,
     "metadata": {},
     "output_type": "execute_result"
    }
   ],
   "source": [
    "#  Random integers within a range :\n",
    "\n",
    "arr = np.random.randint(0,21,2)    # (start, stop, dimension/number of values)\n",
    "arr"
   ]
  },
  {
   "cell_type": "code",
   "execution_count": 18,
   "id": "1c13a68f",
   "metadata": {},
   "outputs": [
    {
     "data": {
      "text/plain": [
       "86"
      ]
     },
     "execution_count": 18,
     "metadata": {},
     "output_type": "execute_result"
    }
   ],
   "source": [
    "arr = np.random.randint(10,100)   \n",
    "arr"
   ]
  },
  {
   "cell_type": "code",
   "execution_count": 19,
   "id": "b58aa9d9",
   "metadata": {},
   "outputs": [
    {
     "data": {
      "text/plain": [
       "array([[97, 31, 43],\n",
       "       [96, 72, 97],\n",
       "       [16, 45, 50]], dtype=int32)"
      ]
     },
     "execution_count": 19,
     "metadata": {},
     "output_type": "execute_result"
    }
   ],
   "source": [
    "arr = np.random.randint(10, 100, size = (3,3))       \n",
    "arr"
   ]
  },
  {
   "cell_type": "markdown",
   "id": "214bf800",
   "metadata": {},
   "source": [
    "### NumPy datatypes and typecasting : \n",
    "##### - NumPy arrays do not allow multiple datatypes "
   ]
  },
  {
   "cell_type": "code",
   "execution_count": 20,
   "id": "39f2d2e5",
   "metadata": {},
   "outputs": [
    {
     "data": {
      "text/plain": [
       "array([1. , 2. , 3.4, 5. ])"
      ]
     },
     "execution_count": 20,
     "metadata": {},
     "output_type": "execute_result"
    }
   ],
   "source": [
    "arr = np.array([1,2,3.4,5])\n",
    "arr"
   ]
  },
  {
   "cell_type": "code",
   "execution_count": 21,
   "id": "5feed573",
   "metadata": {},
   "outputs": [
    {
     "name": "stdout",
     "output_type": "stream",
     "text": [
      "<class 'numpy.ndarray'>\n"
     ]
    }
   ],
   "source": [
    "print(type(arr))"
   ]
  },
  {
   "cell_type": "code",
   "execution_count": 22,
   "id": "f0a53557",
   "metadata": {},
   "outputs": [
    {
     "data": {
      "text/plain": [
       "array(['deepak', '2', '4', '5.67'], dtype='<U32')"
      ]
     },
     "execution_count": 22,
     "metadata": {},
     "output_type": "execute_result"
    }
   ],
   "source": [
    "# convert list into a NumPy array \n",
    "\n",
    "lst = [\"deepak\", 2, 4, 5.67]\n",
    "\n",
    "np.array(lst)                        # all the elements will get converted to string format"
   ]
  },
  {
   "cell_type": "code",
   "execution_count": 23,
   "id": "7b18170e",
   "metadata": {},
   "outputs": [
    {
     "data": {
      "text/plain": [
       "array([1., 2., 3., 4., 5.])"
      ]
     },
     "execution_count": 23,
     "metadata": {},
     "output_type": "execute_result"
    }
   ],
   "source": [
    "# converting inter to float\n",
    "\n",
    "arr = np.array([1, 2, 3, 4, 5], dtype = np.float64)\n",
    "arr"
   ]
  },
  {
   "cell_type": "code",
   "execution_count": 24,
   "id": "ca5dc317",
   "metadata": {},
   "outputs": [
    {
     "data": {
      "text/plain": [
       "dtype('int64')"
      ]
     },
     "execution_count": 24,
     "metadata": {},
     "output_type": "execute_result"
    }
   ],
   "source": [
    "# Typecasting : whenever you want to convert one type of data into another , \n",
    "# astype()\n",
    "\n",
    "arr = np.array([1, 2, 3])\n",
    "arr.dtype"
   ]
  },
  {
   "cell_type": "code",
   "execution_count": 25,
   "id": "0cfeea56",
   "metadata": {},
   "outputs": [
    {
     "data": {
      "text/plain": [
       "array([1., 2., 3.])"
      ]
     },
     "execution_count": 25,
     "metadata": {},
     "output_type": "execute_result"
    }
   ],
   "source": [
    "new_arr = arr.astype(np.float64)\n",
    "new_arr"
   ]
  },
  {
   "cell_type": "markdown",
   "id": "14064d7e",
   "metadata": {},
   "source": [
    "##### Creating Multi-dimensional array :"
   ]
  },
  {
   "cell_type": "code",
   "execution_count": 26,
   "id": "3c8f0fb9",
   "metadata": {},
   "outputs": [
    {
     "data": {
      "text/plain": [
       "array([[1, 2, 3],\n",
       "       [4, 5, 6]])"
      ]
     },
     "execution_count": 26,
     "metadata": {},
     "output_type": "execute_result"
    }
   ],
   "source": [
    "arr = np.array([[1, 2, 3],                  # in an numpy array, only one list is accepted , hence we have to place another square bracket\n",
    "               [4, 5, 6]])\n",
    "arr                                         # will print a 2D array"
   ]
  },
  {
   "cell_type": "code",
   "execution_count": 27,
   "id": "e42f0f15",
   "metadata": {},
   "outputs": [
    {
     "data": {
      "text/plain": [
       "6"
      ]
     },
     "execution_count": 27,
     "metadata": {},
     "output_type": "execute_result"
    }
   ],
   "source": [
    "arr.size       # number of elements present "
   ]
  },
  {
   "cell_type": "code",
   "execution_count": 28,
   "id": "99a6487a",
   "metadata": {},
   "outputs": [
    {
     "data": {
      "text/plain": [
       "8"
      ]
     },
     "execution_count": 28,
     "metadata": {},
     "output_type": "execute_result"
    }
   ],
   "source": [
    "# size of one element in bytes \n",
    "\n",
    "arr.itemsize"
   ]
  },
  {
   "cell_type": "markdown",
   "id": "932706e0",
   "metadata": {},
   "source": [
    "#### Array Reshaping :"
   ]
  },
  {
   "cell_type": "code",
   "execution_count": 29,
   "id": "99fdf5ca",
   "metadata": {},
   "outputs": [
    {
     "data": {
      "text/plain": [
       "array([[1, 2, 3],\n",
       "       [4, 5, 6]])"
      ]
     },
     "execution_count": 29,
     "metadata": {},
     "output_type": "execute_result"
    }
   ],
   "source": [
    "# RESHAPE :\n",
    "\n",
    "arr = np.array([1, 2, 3, 4, 5, 6])\n",
    "res_arr = arr.reshape(2,3)             # will convert the above 1D array to a 2*3 matrix \n",
    "res_arr"
   ]
  },
  {
   "cell_type": "code",
   "execution_count": 30,
   "id": "ae9dbddc",
   "metadata": {},
   "outputs": [
    {
     "data": {
      "text/plain": [
       "array([1, 2, 3, 4, 5, 6])"
      ]
     },
     "execution_count": 30,
     "metadata": {},
     "output_type": "execute_result"
    }
   ],
   "source": [
    "# RAVEL : used to convert any array into 1D array, \n",
    "# changes will be reflected in the original array\n",
    "\n",
    "arr = np.array([[1,2,3],\n",
    "             [4, 5, 6]])\n",
    "arr2 = arr.ravel()\n",
    "arr2"
   ]
  },
  {
   "cell_type": "code",
   "execution_count": 31,
   "id": "d504709a",
   "metadata": {},
   "outputs": [
    {
     "data": {
      "text/plain": [
       "array([1, 2, 3, 4, 5, 6])"
      ]
     },
     "execution_count": 31,
     "metadata": {},
     "output_type": "execute_result"
    }
   ],
   "source": [
    "# FLATTEN : use to convert any array into 1D array without refelcting the changes in the original array , \n",
    "# it will return a copy \n",
    "\n",
    "arr = np.array([[1,2,3],\n",
    "             [4, 5, 6]])\n",
    "arr2 = arr.flatten()\n",
    "arr2"
   ]
  },
  {
   "cell_type": "markdown",
   "id": "54eb4fe9",
   "metadata": {},
   "source": [
    "#### Arithmetic operations on Arrays : "
   ]
  },
  {
   "cell_type": "code",
   "execution_count": 32,
   "id": "d0a06466",
   "metadata": {},
   "outputs": [],
   "source": [
    "arr1 = np.array([1, 2, 3])\n",
    "arr2 = np.array([4, 5, 6]) "
   ]
  },
  {
   "cell_type": "code",
   "execution_count": 33,
   "id": "2c3010b2",
   "metadata": {},
   "outputs": [
    {
     "data": {
      "text/plain": [
       "array([5, 7, 9])"
      ]
     },
     "execution_count": 33,
     "metadata": {},
     "output_type": "execute_result"
    }
   ],
   "source": [
    "# ADDITION : \n",
    "\n",
    "arr1 + arr2 \n"
   ]
  },
  {
   "cell_type": "code",
   "execution_count": 34,
   "id": "061a1d6d",
   "metadata": {},
   "outputs": [
    {
     "data": {
      "text/plain": [
       "array([-3, -3, -3])"
      ]
     },
     "execution_count": 34,
     "metadata": {},
     "output_type": "execute_result"
    }
   ],
   "source": [
    "#  SUBTRACTION :\n",
    "\n",
    "arr1 - arr2 "
   ]
  },
  {
   "cell_type": "code",
   "execution_count": 35,
   "id": "4d187327",
   "metadata": {},
   "outputs": [
    {
     "data": {
      "text/plain": [
       "array([0.25, 0.4 , 0.5 ])"
      ]
     },
     "execution_count": 35,
     "metadata": {},
     "output_type": "execute_result"
    }
   ],
   "source": [
    "# DIVISION : \n",
    "\n",
    "arr1/arr2"
   ]
  },
  {
   "cell_type": "code",
   "execution_count": 36,
   "id": "02608b06",
   "metadata": {},
   "outputs": [
    {
     "data": {
      "text/plain": [
       "array([ 4, 10, 18])"
      ]
     },
     "execution_count": 36,
     "metadata": {},
     "output_type": "execute_result"
    }
   ],
   "source": [
    "# MULTIPLICATION : \n",
    "\n",
    "arr1 * arr2 "
   ]
  },
  {
   "cell_type": "code",
   "execution_count": 37,
   "id": "2d6b7d49",
   "metadata": {},
   "outputs": [
    {
     "data": {
      "text/plain": [
       "array([4, 2, 2])"
      ]
     },
     "execution_count": 37,
     "metadata": {},
     "output_type": "execute_result"
    }
   ],
   "source": [
    "arr2 // arr1     # will round up the dcimal values , and print integer "
   ]
  },
  {
   "cell_type": "code",
   "execution_count": 38,
   "id": "167b9914",
   "metadata": {},
   "outputs": [
    {
     "data": {
      "text/plain": [
       "array([0, 1, 0])"
      ]
     },
     "execution_count": 38,
     "metadata": {},
     "output_type": "execute_result"
    }
   ],
   "source": [
    "# MODULUS : gives us the remainder \n",
    "\n",
    "arr2 % arr1"
   ]
  },
  {
   "cell_type": "code",
   "execution_count": 39,
   "id": "8deb9ade",
   "metadata": {},
   "outputs": [
    {
     "data": {
      "text/plain": [
       "array([  1,  32, 729])"
      ]
     },
     "execution_count": 39,
     "metadata": {},
     "output_type": "execute_result"
    }
   ],
   "source": [
    "# EXPONENTS : squaring the arrays \n",
    "\n",
    "arr1 ** arr2 "
   ]
  },
  {
   "cell_type": "markdown",
   "id": "9dd683c9",
   "metadata": {},
   "source": [
    "##### Some built - in mathematical functions "
   ]
  },
  {
   "cell_type": "code",
   "execution_count": 40,
   "id": "91816296",
   "metadata": {},
   "outputs": [],
   "source": [
    "arr = np.array([1, 4, 9, 16])"
   ]
  },
  {
   "cell_type": "code",
   "execution_count": 41,
   "id": "e7bee5ad",
   "metadata": {},
   "outputs": [
    {
     "data": {
      "text/plain": [
       "array([1., 2., 3., 4.])"
      ]
     },
     "execution_count": 41,
     "metadata": {},
     "output_type": "execute_result"
    }
   ],
   "source": [
    "# Square - root  : np.sqrt()\n",
    "\n",
    "np.sqrt(arr)"
   ]
  },
  {
   "cell_type": "code",
   "execution_count": 42,
   "id": "59a729d0",
   "metadata": {},
   "outputs": [
    {
     "name": "stdout",
     "output_type": "stream",
     "text": [
      "[2.71828183 7.3890561 ]\n"
     ]
    }
   ],
   "source": [
    "# Exponential : np.exp()\n",
    "print (np.exp([1, 2]))      # will print e raised to 1 and 2"
   ]
  },
  {
   "cell_type": "code",
   "execution_count": 43,
   "id": "5a950987",
   "metadata": {},
   "outputs": [
    {
     "data": {
      "text/plain": [
       "array([0.0000000e+00, 1.2246468e-16, 1.0000000e+00])"
      ]
     },
     "execution_count": 43,
     "metadata": {},
     "output_type": "execute_result"
    }
   ],
   "source": [
    "# Trigonometric functions \n",
    "\n",
    "angles = np.array([0, np.pi, np.pi/2])\n",
    "np.sin(angles)                               # will print an array \n",
    "\n",
    "# print(np.sin(angles))                          # will print a list "
   ]
  },
  {
   "cell_type": "markdown",
   "id": "8552cde5",
   "metadata": {},
   "source": [
    "##### Accessing and Slicing Arrays :  "
   ]
  },
  {
   "cell_type": "code",
   "execution_count": 44,
   "id": "9cd4573a",
   "metadata": {},
   "outputs": [
    {
     "data": {
      "text/plain": [
       "array([[1, 2, 3],\n",
       "       [4, 5, 6],\n",
       "       [7, 8, 9]])"
      ]
     },
     "execution_count": 44,
     "metadata": {},
     "output_type": "execute_result"
    }
   ],
   "source": [
    "arr = np.array([[1, 2, 3],\n",
    "                [4, 5, 6],\n",
    "                [7, 8, 9]])\n",
    "arr"
   ]
  },
  {
   "cell_type": "code",
   "execution_count": 45,
   "id": "ad40fbc6",
   "metadata": {},
   "outputs": [
    {
     "data": {
      "text/plain": [
       "array([4, 5, 6])"
      ]
     },
     "execution_count": 45,
     "metadata": {},
     "output_type": "execute_result"
    }
   ],
   "source": [
    "arr[1]       # will print the row at index = 1 "
   ]
  },
  {
   "cell_type": "code",
   "execution_count": 46,
   "id": "2d200179",
   "metadata": {},
   "outputs": [
    {
     "data": {
      "text/plain": [
       "np.int64(5)"
      ]
     },
     "execution_count": 46,
     "metadata": {},
     "output_type": "execute_result"
    }
   ],
   "source": [
    "arr[1,1]    # will print the number at index 1 of row at index 1"
   ]
  },
  {
   "cell_type": "code",
   "execution_count": 47,
   "id": "a415062a",
   "metadata": {},
   "outputs": [
    {
     "data": {
      "text/plain": [
       "array([[1, 2, 3],\n",
       "       [4, 5, 6]])"
      ]
     },
     "execution_count": 47,
     "metadata": {},
     "output_type": "execute_result"
    }
   ],
   "source": [
    "arr[0:2]     # [inclusive, not inclusive]"
   ]
  },
  {
   "cell_type": "code",
   "execution_count": 48,
   "id": "98cd696e",
   "metadata": {},
   "outputs": [
    {
     "data": {
      "text/plain": [
       "array([10, 20, 30, 40, 50, 60])"
      ]
     },
     "execution_count": 48,
     "metadata": {},
     "output_type": "execute_result"
    }
   ],
   "source": [
    "arr =  np.array([10, 20, 30, 40, 50, 60])\n",
    "arr"
   ]
  },
  {
   "cell_type": "code",
   "execution_count": 49,
   "id": "66f6632b",
   "metadata": {},
   "outputs": [
    {
     "data": {
      "text/plain": [
       "array([10, 30, 50])"
      ]
     },
     "execution_count": 49,
     "metadata": {},
     "output_type": "execute_result"
    }
   ],
   "source": [
    "arr[::2]                #  [starting, len(index), step) ; from starting to ending but step value is 2"
   ]
  },
  {
   "cell_type": "code",
   "execution_count": 50,
   "id": "4f9ab427",
   "metadata": {},
   "outputs": [
    {
     "data": {
      "text/plain": [
       "np.int64(50)"
      ]
     },
     "execution_count": 50,
     "metadata": {},
     "output_type": "execute_result"
    }
   ],
   "source": [
    "# Negative indexing : will count from backwards \n",
    "\n",
    "arr[-2]"
   ]
  },
  {
   "cell_type": "code",
   "execution_count": 51,
   "id": "16f67f3e",
   "metadata": {},
   "outputs": [
    {
     "data": {
      "text/plain": [
       "array([[1, 2, 3],\n",
       "       [4, 5, 6],\n",
       "       [7, 8, 9]])"
      ]
     },
     "execution_count": 51,
     "metadata": {},
     "output_type": "execute_result"
    }
   ],
   "source": [
    "matrix = np.array([[1,2,3],\n",
    "                   [4,5,6],\n",
    "                   [7,8,9]])\n",
    "matrix"
   ]
  },
  {
   "cell_type": "code",
   "execution_count": 52,
   "id": "bd022aee",
   "metadata": {},
   "outputs": [
    {
     "data": {
      "text/plain": [
       "array([[1, 2, 3],\n",
       "       [4, 5, 6]])"
      ]
     },
     "execution_count": 52,
     "metadata": {},
     "output_type": "execute_result"
    }
   ],
   "source": [
    "matrix[0:2, 0:3]      # row, column"
   ]
  },
  {
   "cell_type": "code",
   "execution_count": 53,
   "id": "290d41e3",
   "metadata": {},
   "outputs": [
    {
     "data": {
      "text/plain": [
       "array([[1, 2],\n",
       "       [4, 5],\n",
       "       [7, 8]])"
      ]
     },
     "execution_count": 53,
     "metadata": {},
     "output_type": "execute_result"
    }
   ],
   "source": [
    "matrix[0:3, 0:2]"
   ]
  },
  {
   "cell_type": "code",
   "execution_count": 54,
   "id": "1c4b62c0",
   "metadata": {},
   "outputs": [
    {
     "data": {
      "text/plain": [
       "array([[5, 6],\n",
       "       [8, 9]])"
      ]
     },
     "execution_count": 54,
     "metadata": {},
     "output_type": "execute_result"
    }
   ],
   "source": [
    "matrix[1:, 1:]   # row 2 and 3 but excluding column 1"
   ]
  },
  {
   "cell_type": "markdown",
   "id": "d617cf18",
   "metadata": {},
   "source": [
    "##### Iterations :"
   ]
  },
  {
   "cell_type": "code",
   "execution_count": 55,
   "id": "680be32f",
   "metadata": {},
   "outputs": [
    {
     "data": {
      "text/plain": [
       "array([[1, 2, 3, 4],\n",
       "       [5, 6, 7, 8]])"
      ]
     },
     "execution_count": 55,
     "metadata": {},
     "output_type": "execute_result"
    }
   ],
   "source": [
    "# using nditer()\n",
    "\n",
    "arr = np.array([[1,2,3,4],\n",
    "                [5,6,7,8]])\n",
    "arr"
   ]
  },
  {
   "cell_type": "code",
   "execution_count": 56,
   "id": "f298054f",
   "metadata": {},
   "outputs": [
    {
     "name": "stdout",
     "output_type": "stream",
     "text": [
      "12345678"
     ]
    }
   ],
   "source": [
    "for x in np.nditer(arr):\n",
    "    print(x, end='') "
   ]
  },
  {
   "cell_type": "code",
   "execution_count": 57,
   "id": "b888ce13",
   "metadata": {},
   "outputs": [
    {
     "name": "stdout",
     "output_type": "stream",
     "text": [
      "((0, 0), np.int64(1))\n",
      "((0, 1), np.int64(2))\n",
      "((0, 2), np.int64(3))\n",
      "((0, 3), np.int64(4))\n",
      "((1, 0), np.int64(5))\n",
      "((1, 1), np.int64(6))\n",
      "((1, 2), np.int64(7))\n",
      "((1, 3), np.int64(8))\n"
     ]
    }
   ],
   "source": [
    "# using ndenumerate() : it will tell you both , the index value and the value itself \n",
    "\n",
    "for x in np.ndenumerate(arr):\n",
    "    print(x)\n",
    "\n"
   ]
  },
  {
   "cell_type": "code",
   "execution_count": 58,
   "id": "bb7a3518",
   "metadata": {},
   "outputs": [
    {
     "data": {
      "text/plain": [
       "array([[ 1,  2,  3,  4,  5],\n",
       "       [ 6,  7,  8,  9, 10]])"
      ]
     },
     "execution_count": 58,
     "metadata": {},
     "output_type": "execute_result"
    }
   ],
   "source": [
    "# Transpose of a matrix :\n",
    "\n",
    "matrix = np.array([[1,2,3,4,5],\n",
    "                   [6,7,8,9,10]])\n",
    "matrix "
   ]
  },
  {
   "cell_type": "code",
   "execution_count": 59,
   "id": "f04722e9",
   "metadata": {},
   "outputs": [
    {
     "data": {
      "text/plain": [
       "array([[ 1,  6],\n",
       "       [ 2,  7],\n",
       "       [ 3,  8],\n",
       "       [ 4,  9],\n",
       "       [ 5, 10]])"
      ]
     },
     "execution_count": 59,
     "metadata": {},
     "output_type": "execute_result"
    }
   ],
   "source": [
    "matrix.transpose()"
   ]
  },
  {
   "cell_type": "markdown",
   "id": "9c5b0489",
   "metadata": {},
   "source": [
    "##### Concatenation :"
   ]
  },
  {
   "cell_type": "code",
   "execution_count": 60,
   "id": "33698398",
   "metadata": {},
   "outputs": [],
   "source": [
    "a = np.array([[1,2,3,4],\n",
    "             [5,6,7,8]])\n",
    "\n",
    "b = np.array([[10,20,30,40],\n",
    "              [50,60,70,80]])"
   ]
  },
  {
   "cell_type": "code",
   "execution_count": 61,
   "id": "4ee2db74",
   "metadata": {},
   "outputs": [
    {
     "data": {
      "text/plain": [
       "array([[ 1,  2,  3,  4],\n",
       "       [ 5,  6,  7,  8],\n",
       "       [10, 20, 30, 40],\n",
       "       [50, 60, 70, 80]])"
      ]
     },
     "execution_count": 61,
     "metadata": {},
     "output_type": "execute_result"
    }
   ],
   "source": [
    "np.concatenate((a,b))"
   ]
  },
  {
   "cell_type": "code",
   "execution_count": 62,
   "id": "8535b92d",
   "metadata": {},
   "outputs": [
    {
     "data": {
      "text/plain": [
       "array([[ 1,  2,  3,  4, 10, 20, 30, 40],\n",
       "       [ 5,  6,  7,  8, 50, 60, 70, 80]])"
      ]
     },
     "execution_count": 62,
     "metadata": {},
     "output_type": "execute_result"
    }
   ],
   "source": [
    "np.hstack((a,b))     # horizontal addition of the arrays "
   ]
  },
  {
   "cell_type": "code",
   "execution_count": 63,
   "id": "eb3359c2",
   "metadata": {},
   "outputs": [
    {
     "data": {
      "text/plain": [
       "array([1, 1, 2, 2, 3, 3, 4, 4])"
      ]
     },
     "execution_count": 63,
     "metadata": {},
     "output_type": "execute_result"
    }
   ],
   "source": [
    "# Repeating the values \n",
    "\n",
    "arr = np.array([1,2,3,4])\n",
    "\n",
    "np.repeat(arr,2)                   # will repeat each elements twice "
   ]
  },
  {
   "cell_type": "code",
   "execution_count": 64,
   "id": "060c661f",
   "metadata": {},
   "outputs": [
    {
     "data": {
      "text/plain": [
       "array([1, 2, 3, 4, 1, 2, 3, 4])"
      ]
     },
     "execution_count": 64,
     "metadata": {},
     "output_type": "execute_result"
    }
   ],
   "source": [
    "# Tile : will repeat the whole array \n",
    "\n",
    "np.tile(arr,2)"
   ]
  },
  {
   "cell_type": "markdown",
   "id": "17b9eb5b",
   "metadata": {},
   "source": [
    "##### Aggregate functions : used to summarise the array"
   ]
  },
  {
   "cell_type": "code",
   "execution_count": 65,
   "id": "9256a6e2",
   "metadata": {},
   "outputs": [
    {
     "data": {
      "text/plain": [
       "array([ 2,  4,  6,  8, 10])"
      ]
     },
     "execution_count": 65,
     "metadata": {},
     "output_type": "execute_result"
    }
   ],
   "source": [
    "arr = np.array([2,4,6,8,10])\n",
    "arr"
   ]
  },
  {
   "cell_type": "code",
   "execution_count": 66,
   "id": "f0f80e14",
   "metadata": {},
   "outputs": [
    {
     "data": {
      "text/plain": [
       "np.int64(30)"
      ]
     },
     "execution_count": 66,
     "metadata": {},
     "output_type": "execute_result"
    }
   ],
   "source": [
    "np.sum(arr)             # will give you the sum of all the elements "
   ]
  },
  {
   "cell_type": "code",
   "execution_count": 67,
   "id": "803dd61b",
   "metadata": {},
   "outputs": [
    {
     "data": {
      "text/plain": [
       "np.float64(6.0)"
      ]
     },
     "execution_count": 67,
     "metadata": {},
     "output_type": "execute_result"
    }
   ],
   "source": [
    "# to find mean \n",
    "np.mean(arr)"
   ]
  },
  {
   "cell_type": "code",
   "execution_count": 68,
   "id": "701dcb3d",
   "metadata": {},
   "outputs": [
    {
     "data": {
      "text/plain": [
       "np.float64(6.0)"
      ]
     },
     "execution_count": 68,
     "metadata": {},
     "output_type": "execute_result"
    }
   ],
   "source": [
    "# to find median \n",
    "np.median(arr)"
   ]
  },
  {
   "cell_type": "code",
   "execution_count": 69,
   "id": "b50505f0",
   "metadata": {},
   "outputs": [
    {
     "data": {
      "text/plain": [
       "np.float64(2.8284271247461903)"
      ]
     },
     "execution_count": 69,
     "metadata": {},
     "output_type": "execute_result"
    }
   ],
   "source": [
    "# to find standard deviation :\n",
    "np.std(arr)"
   ]
  },
  {
   "cell_type": "code",
   "execution_count": 70,
   "id": "357708ce",
   "metadata": {},
   "outputs": [
    {
     "data": {
      "text/plain": [
       "np.float64(8.0)"
      ]
     },
     "execution_count": 70,
     "metadata": {},
     "output_type": "execute_result"
    }
   ],
   "source": [
    "#  to find the variance \n",
    "np.var(arr)"
   ]
  },
  {
   "cell_type": "code",
   "execution_count": 71,
   "id": "9f2ac42a",
   "metadata": {},
   "outputs": [
    {
     "data": {
      "text/plain": [
       "np.int64(2)"
      ]
     },
     "execution_count": 71,
     "metadata": {},
     "output_type": "execute_result"
    }
   ],
   "source": [
    "# minimum and maximum values in the array \n",
    "\n",
    "np.min(arr)"
   ]
  },
  {
   "cell_type": "code",
   "execution_count": 72,
   "id": "df6a2aab",
   "metadata": {},
   "outputs": [
    {
     "data": {
      "text/plain": [
       "array([[1, 2, 3],\n",
       "       [4, 5, 6],\n",
       "       [7, 8, 9]])"
      ]
     },
     "execution_count": 72,
     "metadata": {},
     "output_type": "execute_result"
    }
   ],
   "source": [
    "matrix = np.array([[1,2,3],\n",
    "                   [4,5,6],\n",
    "                   [7,8,9]])\n",
    "matrix"
   ]
  },
  {
   "cell_type": "code",
   "execution_count": 73,
   "id": "e77632a7",
   "metadata": {},
   "outputs": [
    {
     "data": {
      "text/plain": [
       "array([12, 15, 18])"
      ]
     },
     "execution_count": 73,
     "metadata": {},
     "output_type": "execute_result"
    }
   ],
   "source": [
    "# to find sum accross axes :\n",
    "# axis = 0 is row \n",
    "# axis = 1 is column \n",
    "\n",
    "np.sum(matrix, axis=0) "
   ]
  },
  {
   "cell_type": "code",
   "execution_count": 74,
   "id": "f9b3a5e9",
   "metadata": {},
   "outputs": [
    {
     "data": {
      "text/plain": [
       "array([2, 4, 6, 8])"
      ]
     },
     "execution_count": 74,
     "metadata": {},
     "output_type": "execute_result"
    }
   ],
   "source": [
    "# for cumulative sum :\n",
    "\n",
    "arr = np.array([2,4,6,8])\n",
    "arr"
   ]
  },
  {
   "cell_type": "code",
   "execution_count": 75,
   "id": "942e926c",
   "metadata": {},
   "outputs": [
    {
     "data": {
      "text/plain": [
       "array([ 2,  6, 12, 20])"
      ]
     },
     "execution_count": 75,
     "metadata": {},
     "output_type": "execute_result"
    }
   ],
   "source": [
    "np.cumsum(arr)"
   ]
  },
  {
   "cell_type": "code",
   "execution_count": 76,
   "id": "760e0f61",
   "metadata": {},
   "outputs": [
    {
     "data": {
      "text/plain": [
       "array([  2,   8,  48, 384])"
      ]
     },
     "execution_count": 76,
     "metadata": {},
     "output_type": "execute_result"
    }
   ],
   "source": [
    "# for cumulative multiplication \n",
    "\n",
    "np.cumprod(arr)"
   ]
  },
  {
   "cell_type": "markdown",
   "id": "286fe4ba",
   "metadata": {},
   "source": [
    "##### Handling missing data :"
   ]
  },
  {
   "cell_type": "code",
   "execution_count": 77,
   "id": "1e40ffc0",
   "metadata": {},
   "outputs": [
    {
     "data": {
      "text/plain": [
       "array([[ 1.,  2., nan],\n",
       "       [ 3.,  4.,  5.],\n",
       "       [nan,  9., nan]])"
      ]
     },
     "execution_count": 77,
     "metadata": {},
     "output_type": "execute_result"
    }
   ],
   "source": [
    "# nan = not a number \n",
    "\n",
    "arr = np.array([[1,2,np.nan],\n",
    "                [3,4,5],\n",
    "                [np.nan,9,np.nan]])\n",
    "arr"
   ]
  },
  {
   "cell_type": "code",
   "execution_count": 78,
   "id": "bc11ddde",
   "metadata": {},
   "outputs": [
    {
     "data": {
      "text/plain": [
       "array([[False, False,  True],\n",
       "       [False, False, False],\n",
       "       [ True, False,  True]])"
      ]
     },
     "execution_count": 78,
     "metadata": {},
     "output_type": "execute_result"
    }
   ],
   "source": [
    "np.isnan(arr)       # will print True , wherever nan is present "
   ]
  },
  {
   "cell_type": "code",
   "execution_count": 79,
   "id": "057a0b74",
   "metadata": {},
   "outputs": [
    {
     "data": {
      "text/plain": [
       "np.int64(1)"
      ]
     },
     "execution_count": 79,
     "metadata": {},
     "output_type": "execute_result"
    }
   ],
   "source": [
    "# counting nan values :\n",
    "# False = 0\n",
    "# True = 1\n",
    "\n",
    "np.count_nonzero(np.isnan)"
   ]
  }
 ],
 "metadata": {
  "kernelspec": {
   "display_name": "Python 3",
   "language": "python",
   "name": "python3"
  },
  "language_info": {
   "codemirror_mode": {
    "name": "ipython",
    "version": 3
   },
   "file_extension": ".py",
   "mimetype": "text/x-python",
   "name": "python",
   "nbconvert_exporter": "python",
   "pygments_lexer": "ipython3",
   "version": "3.13.5"
  }
 },
 "nbformat": 4,
 "nbformat_minor": 5
}
